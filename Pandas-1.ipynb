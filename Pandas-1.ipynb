{
 "cells": [
  {
   "cell_type": "code",
   "execution_count": 1,
   "id": "3bcbb927",
   "metadata": {},
   "outputs": [],
   "source": [
    "import numpy as np\n",
    "import pandas as pd"
   ]
  },
  {
   "cell_type": "code",
   "execution_count": 3,
   "id": "52440f27",
   "metadata": {},
   "outputs": [
    {
     "name": "stdout",
     "output_type": "stream",
     "text": [
      "Series([], dtype: float64)\n"
     ]
    },
    {
     "name": "stderr",
     "output_type": "stream",
     "text": [
      "C:\\Users\\noble\\AppData\\Local\\Temp\\ipykernel_11280\\748301359.py:1: FutureWarning: The default dtype for empty Series will be 'object' instead of 'float64' in a future version. Specify a dtype explicitly to silence this warning.\n",
      "  s= pd.Series ([])\n"
     ]
    }
   ],
   "source": [
    "s= pd.Series ([])\n",
    "print(s)"
   ]
  },
  {
   "cell_type": "code",
   "execution_count": 4,
   "id": "eb0ea371",
   "metadata": {},
   "outputs": [
    {
     "name": "stdout",
     "output_type": "stream",
     "text": [
      "Series([], dtype: float64)\n"
     ]
    },
    {
     "name": "stderr",
     "output_type": "stream",
     "text": [
      "C:\\Users\\noble\\AppData\\Local\\Temp\\ipykernel_11280\\748301359.py:1: FutureWarning: The default dtype for empty Series will be 'object' instead of 'float64' in a future version. Specify a dtype explicitly to silence this warning.\n",
      "  s= pd.Series ([])\n"
     ]
    }
   ],
   "source": [
    "s= pd.Series ([])\n",
    "print(s)"
   ]
  },
  {
   "cell_type": "code",
   "execution_count": 5,
   "id": "54371bea",
   "metadata": {},
   "outputs": [
    {
     "name": "stdout",
     "output_type": "stream",
     "text": [
      "0    100\n",
      "1    101\n",
      "2    102\n",
      "dtype: int64\n"
     ]
    }
   ],
   "source": [
    "s= pd.Series ([100,101,102])\n",
    "print(s)"
   ]
  },
  {
   "cell_type": "code",
   "execution_count": 6,
   "id": "ff666987",
   "metadata": {},
   "outputs": [
    {
     "name": "stdout",
     "output_type": "stream",
     "text": [
      "[100 101 102]\n"
     ]
    }
   ],
   "source": [
    "ar= np.array ([100,101,102])\n",
    "print(ar)"
   ]
  },
  {
   "cell_type": "code",
   "execution_count": 7,
   "id": "32dbaa99",
   "metadata": {},
   "outputs": [
    {
     "name": "stdout",
     "output_type": "stream",
     "text": [
      "0    10\n",
      "1    12\n",
      "2    14\n",
      "3    16\n",
      "4    18\n",
      "5    20\n",
      "dtype: int32\n"
     ]
    }
   ],
   "source": [
    "arr1 =np.array ([10,12,14,16,18,20])\n",
    "series =pd.Series(arr1)\n",
    "print (series)\n"
   ]
  },
  {
   "cell_type": "code",
   "execution_count": 8,
   "id": "0bc2f1b1",
   "metadata": {},
   "outputs": [
    {
     "name": "stdout",
     "output_type": "stream",
     "text": [
      "0    10\n",
      "1    12\n",
      "2    14\n",
      "3    16\n",
      "4    18\n",
      "5    20\n",
      "dtype: int32\n"
     ]
    }
   ],
   "source": [
    "arr1 =np.array ([10,12,14,16,18,20])\n",
    "series =pd.Series(arr1)\n",
    "print (series)\n"
   ]
  },
  {
   "cell_type": "code",
   "execution_count": 9,
   "id": "5ff84f77",
   "metadata": {},
   "outputs": [
    {
     "name": "stdout",
     "output_type": "stream",
     "text": [
      "2    14\n",
      "3    16\n",
      "4    18\n",
      "dtype: int32\n",
      "2    14\n",
      "3    16\n",
      "4    18\n",
      "5    20\n",
      "dtype: int32\n",
      "0    10\n",
      "1    12\n",
      "2    14\n",
      "3    16\n",
      "4    18\n",
      "dtype: int32\n"
     ]
    }
   ],
   "source": [
    "print (series[2:5])\n",
    "print (series[2:])\n",
    "print (series[:5])\n"
   ]
  },
  {
   "cell_type": "code",
   "execution_count": 10,
   "id": "17134c32",
   "metadata": {},
   "outputs": [
    {
     "name": "stdout",
     "output_type": "stream",
     "text": [
      "Q1    1\n",
      "Q2    2\n",
      "Q3    3\n",
      "Q4    4\n",
      "dtype: int64\n"
     ]
    }
   ],
   "source": [
    "dict1 = {'Q1':1,'Q2':2,'Q3':3,'Q4':4}\n",
    "series =pd.Series (dict1)\n",
    "print (series)\n"
   ]
  },
  {
   "cell_type": "code",
   "execution_count": 11,
   "id": "616c9797",
   "metadata": {},
   "outputs": [
    {
     "name": "stdout",
     "output_type": "stream",
     "text": [
      "Q1    1\n",
      "Q2    2\n",
      "Q3    3\n",
      "dtype: int64\n"
     ]
    }
   ],
   "source": [
    "print (series ['Q1':'Q3'])"
   ]
  },
  {
   "cell_type": "code",
   "execution_count": 12,
   "id": "efc7e7e0",
   "metadata": {},
   "outputs": [
    {
     "name": "stdout",
     "output_type": "stream",
     "text": [
      "Q2    2\n",
      "Q3    3\n",
      "dtype: int64\n"
     ]
    }
   ],
   "source": [
    "print (series ['Q2':'Q3'])"
   ]
  },
  {
   "cell_type": "code",
   "execution_count": 13,
   "id": "243e77d7",
   "metadata": {},
   "outputs": [
    {
     "name": "stdout",
     "output_type": "stream",
     "text": [
      "Q1      1\n",
      "Q2    100\n",
      "Q3      3\n",
      "Q4      4\n",
      "dtype: int64\n"
     ]
    }
   ],
   "source": [
    "series[1] =100\n",
    "print (series)\n"
   ]
  },
  {
   "cell_type": "code",
   "execution_count": 14,
   "id": "afaba2cd",
   "metadata": {},
   "outputs": [
    {
     "name": "stdout",
     "output_type": "stream",
     "text": [
      "0    10\n",
      "1    20\n",
      "2    30\n",
      "3    40\n",
      "4    50\n",
      "5    60\n",
      "dtype: int64\n"
     ]
    }
   ],
   "source": [
    "list1 = [10,20,30,40,50,60]\n",
    "S1= pd.Series (list1)\n",
    "print (S1)\n"
   ]
  },
  {
   "cell_type": "code",
   "execution_count": 15,
   "id": "4db7db0d",
   "metadata": {},
   "outputs": [
    {
     "data": {
      "text/html": [
       "<div>\n",
       "<style scoped>\n",
       "    .dataframe tbody tr th:only-of-type {\n",
       "        vertical-align: middle;\n",
       "    }\n",
       "\n",
       "    .dataframe tbody tr th {\n",
       "        vertical-align: top;\n",
       "    }\n",
       "\n",
       "    .dataframe thead th {\n",
       "        text-align: right;\n",
       "    }\n",
       "</style>\n",
       "<table border=\"1\" class=\"dataframe\">\n",
       "  <thead>\n",
       "    <tr style=\"text-align: right;\">\n",
       "      <th></th>\n",
       "      <th>0</th>\n",
       "    </tr>\n",
       "  </thead>\n",
       "  <tbody>\n",
       "    <tr>\n",
       "      <th>0</th>\n",
       "      <td>10</td>\n",
       "    </tr>\n",
       "    <tr>\n",
       "      <th>1</th>\n",
       "      <td>20</td>\n",
       "    </tr>\n",
       "    <tr>\n",
       "      <th>2</th>\n",
       "      <td>30</td>\n",
       "    </tr>\n",
       "    <tr>\n",
       "      <th>3</th>\n",
       "      <td>40</td>\n",
       "    </tr>\n",
       "    <tr>\n",
       "      <th>4</th>\n",
       "      <td>50</td>\n",
       "    </tr>\n",
       "    <tr>\n",
       "      <th>5</th>\n",
       "      <td>60</td>\n",
       "    </tr>\n",
       "  </tbody>\n",
       "</table>\n",
       "</div>"
      ],
      "text/plain": [
       "    0\n",
       "0  10\n",
       "1  20\n",
       "2  30\n",
       "3  40\n",
       "4  50\n",
       "5  60"
      ]
     },
     "execution_count": 15,
     "metadata": {},
     "output_type": "execute_result"
    }
   ],
   "source": [
    "pd.DataFrame(S1)\n"
   ]
  },
  {
   "cell_type": "code",
   "execution_count": 16,
   "id": "e5ae391d",
   "metadata": {},
   "outputs": [
    {
     "name": "stdout",
     "output_type": "stream",
     "text": [
      "   Name  Age\n",
      "0  John   25\n",
      "1   Sam   20\n",
      "2  Eric   30\n",
      "3   Ken   28\n"
     ]
    }
   ],
   "source": [
    "list2 = [{'Name': 'John','Age':25}, {'Name':'Sam','Age':20},\n",
    "         {'Name':'Eric','Age':30},{'Name':'Ken','Age':28}]\n",
    "dataframe2=pd.DataFrame(list2)\n",
    "print (dataframe2)\n"
   ]
  },
  {
   "cell_type": "code",
   "execution_count": 17,
   "id": "a908812f",
   "metadata": {},
   "outputs": [
    {
     "data": {
      "text/plain": [
       "0    John\n",
       "1     Sam\n",
       "2    Eric\n",
       "3     Ken\n",
       "Name: Name, dtype: object"
      ]
     },
     "execution_count": 17,
     "metadata": {},
     "output_type": "execute_result"
    }
   ],
   "source": [
    "dataframe2['Name']"
   ]
  },
  {
   "cell_type": "code",
   "execution_count": 18,
   "id": "130b9d20",
   "metadata": {},
   "outputs": [
    {
     "name": "stdout",
     "output_type": "stream",
     "text": [
      "                     Name               Age\n",
      "0  [John, Sam, Eric, Ken]  [25, 20, 30, 28]\n"
     ]
    }
   ],
   "source": [
    "list2 = [{'Name': ['John','Sam','Eric','Ken'],'Age':[25,20,30,28] }]\n",
    "dataframe2=pd.DataFrame(list2)\n",
    "print (dataframe2)\n"
   ]
  },
  {
   "cell_type": "code",
   "execution_count": 19,
   "id": "de1330bc",
   "metadata": {},
   "outputs": [
    {
     "name": "stdout",
     "output_type": "stream",
     "text": [
      "                     Name               Age\n",
      "0  [John, Sam, Eric, Ken]  [25, 20, 30, 28]\n"
     ]
    }
   ],
   "source": [
    "list2 = [{'Name': ['John','Sam','Eric','Ken'],'Age':[25,20,30,28] }]\n",
    "dataframe2=pd.DataFrame(list2)\n",
    "print (dataframe2)"
   ]
  },
  {
   "cell_type": "code",
   "execution_count": 20,
   "id": "089ea4b7",
   "metadata": {},
   "outputs": [
    {
     "name": "stdout",
     "output_type": "stream",
     "text": [
      "   Name  Age\n",
      "0  John   25\n",
      "1   Sam   20\n",
      "2  Eric   30\n",
      "3   Ken   28\n"
     ]
    }
   ],
   "source": [
    "list2 = {'Name': ['John','Sam','Eric','Ken'],'Age':[25,20,30,28] }\n",
    "dataframe2=pd.DataFrame(list2)\n",
    "print (dataframe2)"
   ]
  },
  {
   "cell_type": "code",
   "execution_count": 21,
   "id": "11c86cfe",
   "metadata": {},
   "outputs": [
    {
     "name": "stdout",
     "output_type": "stream",
     "text": [
      "      0    1     2       3\n",
      "0   Sam   28  5362     NaN\n",
      "1   Ken  Tom    32  7500.0\n",
      "2  Eric   45  8512     NaN\n"
     ]
    }
   ],
   "source": [
    "list2= [['Sam', 28,5362],['Ken','Tom',32,7500], ['Eric',45,8512]]\n",
    "df2 = pd.DataFrame(list2)\n",
    "print (df2)\n"
   ]
  },
  {
   "cell_type": "code",
   "execution_count": 22,
   "id": "60fc962d",
   "metadata": {},
   "outputs": [
    {
     "name": "stdout",
     "output_type": "stream",
     "text": [
      "      0    1     2       3\n",
      "0    28  Sam  5362     NaN\n",
      "1   Ken  Tom    32  7500.0\n",
      "2  Eric   45  8512     NaN\n"
     ]
    }
   ],
   "source": [
    "list2= [[28,'Sam', 5362],['Ken','Tom',32,7500], ['Eric',45,8512]]\n",
    "df2 = pd.DataFrame(list2)\n",
    "print (df2)"
   ]
  },
  {
   "cell_type": "code",
   "execution_count": 24,
   "id": "17428932",
   "metadata": {},
   "outputs": [
    {
     "name": "stdout",
     "output_type": "stream",
     "text": [
      "   Name  Age Last_Name\n",
      "0  John   25       NaN\n",
      "1   Sam   20       NaN\n",
      "2  Eric   30       NaN\n",
      "3   Ken   28      Soto\n"
     ]
    }
   ],
   "source": [
    "list2 = [{'Name': 'John','Age':25}, {'Name':'Sam','Age':20},\n",
    "         {'Name':'Eric','Age':30},{'Age':28,'Name':'Ken','Last_Name':'Soto'}]\n",
    "dataframe2=pd.DataFrame(list2)\n",
    "print (dataframe2)\n"
   ]
  },
  {
   "cell_type": "code",
   "execution_count": 25,
   "id": "99232843",
   "metadata": {},
   "outputs": [
    {
     "name": "stdout",
     "output_type": "stream",
     "text": [
      "       Name  Age Last_Name\n",
      "Row 1  John   25       NaN\n",
      "Row 2   Sam   20       NaN\n",
      "Row 3  Eric   30       NaN\n",
      "Row 4   Ken   28      Soto\n"
     ]
    }
   ],
   "source": [
    "list2 = [{'Name': 'John','Age':25}, {'Name':'Sam','Age':20},\n",
    "         {'Name':'Eric','Age':30},{'Name':'Ken','Age':28,'Last_Name':'Soto'}]\n",
    "dataframe2=pd.DataFrame(list2,index  = ['Row 1','Row 2','Row 3','Row 4'])\n",
    "print (dataframe2)\n"
   ]
  },
  {
   "cell_type": "code",
   "execution_count": 28,
   "id": "9e879914",
   "metadata": {},
   "outputs": [
    {
     "name": "stdout",
     "output_type": "stream",
     "text": [
      "       Name  Age Last_Name\n",
      "Row 1  John   25       NaN\n",
      "Row 2   Sam   20       NaN\n",
      "4500   Eric   30       NaN\n",
      "Row 1   Ken   28      Soto\n"
     ]
    }
   ],
   "source": [
    "list2 = [{'Name': 'John','Age':25}, {'Name':'Sam','Age':20},\n",
    "         {'Name':'Eric','Age':30},{'Name':'Ken','Age':28,'Last_Name':'Soto'}]\n",
    "dataframe2=pd.DataFrame(list2,index  = ['Row 1','Row 2',4500,'Row 1'])\n",
    "print (dataframe2)\n"
   ]
  },
  {
   "cell_type": "code",
   "execution_count": 29,
   "id": "a2849ba8",
   "metadata": {},
   "outputs": [
    {
     "data": {
      "text/html": [
       "<div>\n",
       "<style scoped>\n",
       "    .dataframe tbody tr th:only-of-type {\n",
       "        vertical-align: middle;\n",
       "    }\n",
       "\n",
       "    .dataframe tbody tr th {\n",
       "        vertical-align: top;\n",
       "    }\n",
       "\n",
       "    .dataframe thead th {\n",
       "        text-align: right;\n",
       "    }\n",
       "</style>\n",
       "<table border=\"1\" class=\"dataframe\">\n",
       "  <thead>\n",
       "    <tr style=\"text-align: right;\">\n",
       "      <th></th>\n",
       "      <th>Name</th>\n",
       "      <th>Age</th>\n",
       "      <th>Last_Name</th>\n",
       "    </tr>\n",
       "  </thead>\n",
       "  <tbody>\n",
       "    <tr>\n",
       "      <th>Row 1</th>\n",
       "      <td>John</td>\n",
       "      <td>25</td>\n",
       "      <td>NaN</td>\n",
       "    </tr>\n",
       "    <tr>\n",
       "      <th>Row 1</th>\n",
       "      <td>Ken</td>\n",
       "      <td>28</td>\n",
       "      <td>Soto</td>\n",
       "    </tr>\n",
       "  </tbody>\n",
       "</table>\n",
       "</div>"
      ],
      "text/plain": [
       "       Name  Age Last_Name\n",
       "Row 1  John   25       NaN\n",
       "Row 1   Ken   28      Soto"
      ]
     },
     "execution_count": 29,
     "metadata": {},
     "output_type": "execute_result"
    }
   ],
   "source": [
    "dataframe2.loc['Row 1']"
   ]
  },
  {
   "cell_type": "code",
   "execution_count": 32,
   "id": "f2f63be0",
   "metadata": {},
   "outputs": [
    {
     "data": {
      "text/plain": [
       "a    10\n",
       "b    11\n",
       "c    12\n",
       "dtype: int64"
      ]
     },
     "execution_count": 32,
     "metadata": {},
     "output_type": "execute_result"
    }
   ],
   "source": [
    "pd.Series ([10,11,12],index = ['a','b','c'])"
   ]
  },
  {
   "cell_type": "code",
   "execution_count": 33,
   "id": "53345452",
   "metadata": {},
   "outputs": [
    {
     "data": {
      "text/plain": [
       "a    10\n",
       "b    11\n",
       "c    12\n",
       "d    13\n",
       "dtype: int64"
      ]
     },
     "execution_count": 33,
     "metadata": {},
     "output_type": "execute_result"
    }
   ],
   "source": [
    "pd.Series ([10,11,12,13],index = ['a','b','c','d'])"
   ]
  },
  {
   "cell_type": "code",
   "execution_count": null,
   "id": "82245b14",
   "metadata": {},
   "outputs": [],
   "source": []
  },
  {
   "cell_type": "code",
   "execution_count": 30,
   "id": "eb991e79",
   "metadata": {},
   "outputs": [
    {
     "name": "stdout",
     "output_type": "stream",
     "text": [
      "      a   b\n",
      "a  10.0  10\n",
      "b  11.0  11\n",
      "c  12.0  12\n",
      "d   NaN  13\n"
     ]
    }
   ],
   "source": [
    "data1 = {'a': pd.Series ([10,11,12],index = ['a','b','c']),'b': pd.Series ([10,11,12,13],index = ['a','b','c','d'])}\n",
    "tab1 = pd.DataFrame(data1)\n",
    "print (tab1)\n"
   ]
  },
  {
   "cell_type": "code",
   "execution_count": 34,
   "id": "8b2d8d24",
   "metadata": {},
   "outputs": [
    {
     "name": "stdout",
     "output_type": "stream",
     "text": [
      "      a     b     c\n",
      "a  10.0  10.0   NaN\n",
      "b  11.0  11.0   NaN\n",
      "c  12.0  12.0   NaN\n",
      "d   NaN  13.0   NaN\n",
      "0   NaN   NaN  20.0\n",
      "1   NaN   NaN  21.0\n",
      "2   NaN   NaN  22.0\n",
      "3   NaN   NaN  23.0\n"
     ]
    }
   ],
   "source": [
    "data1 = {'a': pd.Series ([10,11,12],index = ['a','b','c']),\n",
    "         'b': pd.Series ([10,11,12,13],index = ['a','b','c','d']),\n",
    "        'c': pd.Series ([20,21,22,23])}\n",
    "tab1 = pd.DataFrame(data1)\n",
    "print (tab1)"
   ]
  },
  {
   "cell_type": "code",
   "execution_count": 36,
   "id": "44cb8115",
   "metadata": {},
   "outputs": [
    {
     "data": {
      "text/html": [
       "<div>\n",
       "<style scoped>\n",
       "    .dataframe tbody tr th:only-of-type {\n",
       "        vertical-align: middle;\n",
       "    }\n",
       "\n",
       "    .dataframe tbody tr th {\n",
       "        vertical-align: top;\n",
       "    }\n",
       "\n",
       "    .dataframe thead th {\n",
       "        text-align: right;\n",
       "    }\n",
       "</style>\n",
       "<table border=\"1\" class=\"dataframe\">\n",
       "  <thead>\n",
       "    <tr style=\"text-align: right;\">\n",
       "      <th></th>\n",
       "      <th>one</th>\n",
       "      <th>two</th>\n",
       "    </tr>\n",
       "  </thead>\n",
       "  <tbody>\n",
       "    <tr>\n",
       "      <th>a</th>\n",
       "      <td>1.0</td>\n",
       "      <td>10</td>\n",
       "    </tr>\n",
       "    <tr>\n",
       "      <th>b</th>\n",
       "      <td>2.0</td>\n",
       "      <td>15</td>\n",
       "    </tr>\n",
       "    <tr>\n",
       "      <th>c</th>\n",
       "      <td>3.0</td>\n",
       "      <td>20</td>\n",
       "    </tr>\n",
       "    <tr>\n",
       "      <th>d</th>\n",
       "      <td>NaN</td>\n",
       "      <td>30</td>\n",
       "    </tr>\n",
       "  </tbody>\n",
       "</table>\n",
       "</div>"
      ],
      "text/plain": [
       "   one  two\n",
       "a  1.0   10\n",
       "b  2.0   15\n",
       "c  3.0   20\n",
       "d  NaN   30"
      ]
     },
     "execution_count": 36,
     "metadata": {},
     "output_type": "execute_result"
    }
   ],
   "source": [
    "data = {'one':pd.Series ([1,2,3], index = ['a','b','c']), \n",
    "        'two':pd.Series ([10,15,20,30], index = ['a','b','c','d']) }\n",
    "Ser= pd.DataFrame(data)\n",
    "Ser\n"
   ]
  },
  {
   "cell_type": "code",
   "execution_count": 37,
   "id": "8d9e6d65",
   "metadata": {},
   "outputs": [
    {
     "name": "stdout",
     "output_type": "stream",
     "text": [
      "   one  two  three\n",
      "a  1.0   10   10.0\n",
      "b  2.0   15   20.0\n",
      "c  3.0   20   50.0\n",
      "d  NaN   30    NaN\n"
     ]
    }
   ],
   "source": [
    "Ser['three'] = pd.Series ([10,20,50],index = ['a','b','c'])\n",
    "print (Ser)\n"
   ]
  },
  {
   "cell_type": "code",
   "execution_count": 38,
   "id": "47d90eaf",
   "metadata": {},
   "outputs": [
    {
     "name": "stdout",
     "output_type": "stream",
     "text": [
      "   one  two  three  Four\n",
      "a  1.0   10   10.0  32.0\n",
      "b  2.0   15   20.0  31.0\n",
      "c  3.0   20   50.0   NaN\n",
      "d  NaN   30    NaN  30.0\n"
     ]
    }
   ],
   "source": [
    "Ser['Four'] = pd.Series ([30,31,32],index = ['d','b','a'])\n",
    "print (Ser)"
   ]
  },
  {
   "cell_type": "code",
   "execution_count": 40,
   "id": "9ffe6d0a",
   "metadata": {},
   "outputs": [
    {
     "name": "stdout",
     "output_type": "stream",
     "text": [
      "   one  two  three  Four  Five\n",
      "a  1.0   10   10.0  32.0  40.0\n",
      "b  2.0   15   20.0  31.0  41.0\n",
      "c  3.0   20   50.0   NaN   NaN\n",
      "d  NaN   30    NaN  30.0   NaN\n"
     ]
    }
   ],
   "source": [
    "Ser['Five'] = pd.Series ([40,41,42,43],index = ['a','b','e','f'])\n",
    "print (Ser)"
   ]
  },
  {
   "cell_type": "code",
   "execution_count": 42,
   "id": "c04e3a7e",
   "metadata": {},
   "outputs": [
    {
     "data": {
      "text/html": [
       "<div>\n",
       "<style scoped>\n",
       "    .dataframe tbody tr th:only-of-type {\n",
       "        vertical-align: middle;\n",
       "    }\n",
       "\n",
       "    .dataframe tbody tr th {\n",
       "        vertical-align: top;\n",
       "    }\n",
       "\n",
       "    .dataframe thead th {\n",
       "        text-align: right;\n",
       "    }\n",
       "</style>\n",
       "<table border=\"1\" class=\"dataframe\">\n",
       "  <thead>\n",
       "    <tr style=\"text-align: right;\">\n",
       "      <th></th>\n",
       "      <th>Name</th>\n",
       "      <th>Age</th>\n",
       "      <th>Last_Name</th>\n",
       "    </tr>\n",
       "  </thead>\n",
       "  <tbody>\n",
       "    <tr>\n",
       "      <th>Row1</th>\n",
       "      <td>John</td>\n",
       "      <td>25</td>\n",
       "      <td>NaN</td>\n",
       "    </tr>\n",
       "    <tr>\n",
       "      <th>Row2</th>\n",
       "      <td>Sam</td>\n",
       "      <td>20</td>\n",
       "      <td>NaN</td>\n",
       "    </tr>\n",
       "    <tr>\n",
       "      <th>Row3</th>\n",
       "      <td>Eric</td>\n",
       "      <td>30</td>\n",
       "      <td>NaN</td>\n",
       "    </tr>\n",
       "    <tr>\n",
       "      <th>Row4</th>\n",
       "      <td>Ken</td>\n",
       "      <td>28</td>\n",
       "      <td>Soto</td>\n",
       "    </tr>\n",
       "  </tbody>\n",
       "</table>\n",
       "</div>"
      ],
      "text/plain": [
       "      Name  Age Last_Name\n",
       "Row1  John   25       NaN\n",
       "Row2   Sam   20       NaN\n",
       "Row3  Eric   30       NaN\n",
       "Row4   Ken   28      Soto"
      ]
     },
     "execution_count": 42,
     "metadata": {},
     "output_type": "execute_result"
    }
   ],
   "source": [
    "dataframe2"
   ]
  },
  {
   "cell_type": "code",
   "execution_count": 41,
   "id": "276c2d67",
   "metadata": {},
   "outputs": [
    {
     "name": "stdout",
     "output_type": "stream",
     "text": [
      "Row1    John\n",
      "Row2     Sam\n",
      "Row3    Eric\n",
      "Row4     Ken\n",
      "Name: Name, dtype: object\n"
     ]
    }
   ],
   "source": [
    "list2 = [{'Name': 'John','Age':25}, {'Name':'Sam','Age':20},\n",
    "         {'Name':'Eric','Age':30},{'Name':'Ken','Age':28,'Last_Name':'Soto'}]\n",
    "dataframe2=pd.DataFrame(list2,index  = ['Row1','Row2','Row3','Row4'])\n",
    "print (dataframe2['Name'])\n"
   ]
  },
  {
   "cell_type": "code",
   "execution_count": 43,
   "id": "a2c107b0",
   "metadata": {},
   "outputs": [
    {
     "name": "stdout",
     "output_type": "stream",
     "text": [
      "      Name\n",
      "Row1  John\n",
      "Row2   Sam\n",
      "Row3  Eric\n",
      "Row4   Ken\n"
     ]
    }
   ],
   "source": [
    "print (dataframe2[['Name']])"
   ]
  },
  {
   "cell_type": "code",
   "execution_count": 44,
   "id": "1cf8c766",
   "metadata": {},
   "outputs": [
    {
     "name": "stdout",
     "output_type": "stream",
     "text": [
      "      Name  Age\n",
      "Row1  John   25\n",
      "Row2   Sam   20\n",
      "Row3  Eric   30\n",
      "Row4   Ken   28\n"
     ]
    }
   ],
   "source": [
    "print (dataframe2 [['Name','Age']])"
   ]
  },
  {
   "cell_type": "code",
   "execution_count": 45,
   "id": "db7e6ab0",
   "metadata": {},
   "outputs": [
    {
     "data": {
      "text/plain": [
       "Index(['Name', 'Age', 'Last_Name'], dtype='object')"
      ]
     },
     "execution_count": 45,
     "metadata": {},
     "output_type": "execute_result"
    }
   ],
   "source": [
    "dataframe2.columns"
   ]
  },
  {
   "cell_type": "code",
   "execution_count": 46,
   "id": "26854248",
   "metadata": {},
   "outputs": [
    {
     "name": "stdout",
     "output_type": "stream",
     "text": [
      "Age\n"
     ]
    }
   ],
   "source": [
    "print (dataframe2.columns [1])"
   ]
  },
  {
   "cell_type": "code",
   "execution_count": 48,
   "id": "29e4be0b",
   "metadata": {},
   "outputs": [
    {
     "name": "stdout",
     "output_type": "stream",
     "text": [
      "Index(['Age', 'Last_Name'], dtype='object')\n"
     ]
    }
   ],
   "source": [
    "print (dataframe2.columns [1:3])\n"
   ]
  },
  {
   "cell_type": "code",
   "execution_count": 49,
   "id": "b4528b9a",
   "metadata": {},
   "outputs": [
    {
     "data": {
      "text/plain": [
       "Row1    25\n",
       "Row2    20\n",
       "Row3    30\n",
       "Row4    28\n",
       "Name: Age, dtype: int64"
      ]
     },
     "execution_count": 49,
     "metadata": {},
     "output_type": "execute_result"
    }
   ],
   "source": [
    "dataframe2['Age']"
   ]
  },
  {
   "cell_type": "code",
   "execution_count": 50,
   "id": "dc299414",
   "metadata": {},
   "outputs": [
    {
     "data": {
      "text/plain": [
       "'Age'"
      ]
     },
     "execution_count": 50,
     "metadata": {},
     "output_type": "execute_result"
    }
   ],
   "source": [
    "dataframe2.columns[1]"
   ]
  },
  {
   "cell_type": "code",
   "execution_count": 51,
   "id": "2dbe5878",
   "metadata": {},
   "outputs": [
    {
     "data": {
      "text/plain": [
       "Row1    25\n",
       "Row2    20\n",
       "Row3    30\n",
       "Row4    28\n",
       "Name: Age, dtype: int64"
      ]
     },
     "execution_count": 51,
     "metadata": {},
     "output_type": "execute_result"
    }
   ],
   "source": [
    "dataframe2[dataframe2.columns[1]]"
   ]
  },
  {
   "cell_type": "code",
   "execution_count": 52,
   "id": "c31ef274",
   "metadata": {},
   "outputs": [
    {
     "data": {
      "text/html": [
       "<div>\n",
       "<style scoped>\n",
       "    .dataframe tbody tr th:only-of-type {\n",
       "        vertical-align: middle;\n",
       "    }\n",
       "\n",
       "    .dataframe tbody tr th {\n",
       "        vertical-align: top;\n",
       "    }\n",
       "\n",
       "    .dataframe thead th {\n",
       "        text-align: right;\n",
       "    }\n",
       "</style>\n",
       "<table border=\"1\" class=\"dataframe\">\n",
       "  <thead>\n",
       "    <tr style=\"text-align: right;\">\n",
       "      <th></th>\n",
       "      <th>Age</th>\n",
       "      <th>Last_Name</th>\n",
       "    </tr>\n",
       "  </thead>\n",
       "  <tbody>\n",
       "    <tr>\n",
       "      <th>Row1</th>\n",
       "      <td>25</td>\n",
       "      <td>NaN</td>\n",
       "    </tr>\n",
       "    <tr>\n",
       "      <th>Row2</th>\n",
       "      <td>20</td>\n",
       "      <td>NaN</td>\n",
       "    </tr>\n",
       "    <tr>\n",
       "      <th>Row3</th>\n",
       "      <td>30</td>\n",
       "      <td>NaN</td>\n",
       "    </tr>\n",
       "    <tr>\n",
       "      <th>Row4</th>\n",
       "      <td>28</td>\n",
       "      <td>Soto</td>\n",
       "    </tr>\n",
       "  </tbody>\n",
       "</table>\n",
       "</div>"
      ],
      "text/plain": [
       "      Age Last_Name\n",
       "Row1   25       NaN\n",
       "Row2   20       NaN\n",
       "Row3   30       NaN\n",
       "Row4   28      Soto"
      ]
     },
     "execution_count": 52,
     "metadata": {},
     "output_type": "execute_result"
    }
   ],
   "source": [
    "dataframe2[dataframe2.columns[1:3]]"
   ]
  },
  {
   "cell_type": "code",
   "execution_count": 53,
   "id": "2f906b2c",
   "metadata": {},
   "outputs": [
    {
     "name": "stdout",
     "output_type": "stream",
     "text": [
      "      Name  Age\n",
      "Row1  John   25\n",
      "Row2   Sam   20\n",
      "Row3  Eric   30\n",
      "Row4   Ken   28\n"
     ]
    }
   ],
   "source": [
    "print (dataframe2[dataframe2.columns [:2]])"
   ]
  },
  {
   "cell_type": "code",
   "execution_count": 54,
   "id": "2534fd6b",
   "metadata": {},
   "outputs": [
    {
     "name": "stdout",
     "output_type": "stream",
     "text": [
      "      Age Last_Name\n",
      "Row1   25       NaN\n",
      "Row2   20       NaN\n",
      "Row3   30       NaN\n",
      "Row4   28      Soto\n"
     ]
    }
   ],
   "source": [
    "print (dataframe2[dataframe2.columns [1:]])"
   ]
  },
  {
   "cell_type": "code",
   "execution_count": 55,
   "id": "768e12c1",
   "metadata": {},
   "outputs": [
    {
     "data": {
      "text/html": [
       "<div>\n",
       "<style scoped>\n",
       "    .dataframe tbody tr th:only-of-type {\n",
       "        vertical-align: middle;\n",
       "    }\n",
       "\n",
       "    .dataframe tbody tr th {\n",
       "        vertical-align: top;\n",
       "    }\n",
       "\n",
       "    .dataframe thead th {\n",
       "        text-align: right;\n",
       "    }\n",
       "</style>\n",
       "<table border=\"1\" class=\"dataframe\">\n",
       "  <thead>\n",
       "    <tr style=\"text-align: right;\">\n",
       "      <th></th>\n",
       "      <th>Name</th>\n",
       "      <th>Age</th>\n",
       "      <th>Last_Name</th>\n",
       "    </tr>\n",
       "  </thead>\n",
       "  <tbody>\n",
       "    <tr>\n",
       "      <th>Row1</th>\n",
       "      <td>John</td>\n",
       "      <td>25</td>\n",
       "      <td>NaN</td>\n",
       "    </tr>\n",
       "    <tr>\n",
       "      <th>Row2</th>\n",
       "      <td>Sam</td>\n",
       "      <td>20</td>\n",
       "      <td>NaN</td>\n",
       "    </tr>\n",
       "    <tr>\n",
       "      <th>Row3</th>\n",
       "      <td>Eric</td>\n",
       "      <td>30</td>\n",
       "      <td>NaN</td>\n",
       "    </tr>\n",
       "    <tr>\n",
       "      <th>Row4</th>\n",
       "      <td>Ken</td>\n",
       "      <td>28</td>\n",
       "      <td>Soto</td>\n",
       "    </tr>\n",
       "  </tbody>\n",
       "</table>\n",
       "</div>"
      ],
      "text/plain": [
       "      Name  Age Last_Name\n",
       "Row1  John   25       NaN\n",
       "Row2   Sam   20       NaN\n",
       "Row3  Eric   30       NaN\n",
       "Row4   Ken   28      Soto"
      ]
     },
     "execution_count": 55,
     "metadata": {},
     "output_type": "execute_result"
    }
   ],
   "source": [
    "dataframe2"
   ]
  },
  {
   "cell_type": "code",
   "execution_count": 57,
   "id": "f300fa7d",
   "metadata": {},
   "outputs": [
    {
     "name": "stdout",
     "output_type": "stream",
     "text": [
      "Name         John\n",
      "Age            25\n",
      "Last_Name     NaN\n",
      "Name: Row1, dtype: object\n"
     ]
    }
   ],
   "source": [
    "print (dataframe2.loc['Row1'])\n"
   ]
  },
  {
   "cell_type": "code",
   "execution_count": 58,
   "id": "29f63093",
   "metadata": {},
   "outputs": [
    {
     "name": "stdout",
     "output_type": "stream",
     "text": [
      "      Name  Age Last_Name\n",
      "Row1  John   25       NaN\n"
     ]
    }
   ],
   "source": [
    "print (dataframe2.loc[['Row1']])"
   ]
  },
  {
   "cell_type": "code",
   "execution_count": 59,
   "id": "3fcd083e",
   "metadata": {},
   "outputs": [
    {
     "name": "stdout",
     "output_type": "stream",
     "text": [
      "      Name  Age Last_Name\n",
      "Row2   Sam   20       NaN\n",
      "Row3  Eric   30       NaN\n",
      "Row4   Ken   28      Soto\n"
     ]
    }
   ],
   "source": [
    "print (dataframe2.loc['Row2':])"
   ]
  },
  {
   "cell_type": "code",
   "execution_count": 60,
   "id": "14d7b0cc",
   "metadata": {},
   "outputs": [
    {
     "name": "stdout",
     "output_type": "stream",
     "text": [
      "      Name  Age Last_Name\n",
      "Row1  John   25       NaN\n",
      "Row2   Sam   20       NaN\n",
      "Row3  Eric   30       NaN\n"
     ]
    }
   ],
   "source": [
    "print (dataframe2.loc[:'Row3'])"
   ]
  },
  {
   "cell_type": "code",
   "execution_count": 61,
   "id": "91c37214",
   "metadata": {},
   "outputs": [
    {
     "data": {
      "text/html": [
       "<div>\n",
       "<style scoped>\n",
       "    .dataframe tbody tr th:only-of-type {\n",
       "        vertical-align: middle;\n",
       "    }\n",
       "\n",
       "    .dataframe tbody tr th {\n",
       "        vertical-align: top;\n",
       "    }\n",
       "\n",
       "    .dataframe thead th {\n",
       "        text-align: right;\n",
       "    }\n",
       "</style>\n",
       "<table border=\"1\" class=\"dataframe\">\n",
       "  <thead>\n",
       "    <tr style=\"text-align: right;\">\n",
       "      <th></th>\n",
       "      <th>Name</th>\n",
       "      <th>Age</th>\n",
       "      <th>Last_Name</th>\n",
       "    </tr>\n",
       "  </thead>\n",
       "  <tbody>\n",
       "    <tr>\n",
       "      <th>Row1</th>\n",
       "      <td>John</td>\n",
       "      <td>25</td>\n",
       "      <td>NaN</td>\n",
       "    </tr>\n",
       "    <tr>\n",
       "      <th>Row2</th>\n",
       "      <td>Sam</td>\n",
       "      <td>20</td>\n",
       "      <td>NaN</td>\n",
       "    </tr>\n",
       "    <tr>\n",
       "      <th>Row3</th>\n",
       "      <td>Eric</td>\n",
       "      <td>30</td>\n",
       "      <td>NaN</td>\n",
       "    </tr>\n",
       "    <tr>\n",
       "      <th>Row4</th>\n",
       "      <td>Ken</td>\n",
       "      <td>28</td>\n",
       "      <td>Soto</td>\n",
       "    </tr>\n",
       "  </tbody>\n",
       "</table>\n",
       "</div>"
      ],
      "text/plain": [
       "      Name  Age Last_Name\n",
       "Row1  John   25       NaN\n",
       "Row2   Sam   20       NaN\n",
       "Row3  Eric   30       NaN\n",
       "Row4   Ken   28      Soto"
      ]
     },
     "execution_count": 61,
     "metadata": {},
     "output_type": "execute_result"
    }
   ],
   "source": [
    "dataframe2"
   ]
  },
  {
   "cell_type": "code",
   "execution_count": 63,
   "id": "88a74138",
   "metadata": {},
   "outputs": [
    {
     "data": {
      "text/html": [
       "<div>\n",
       "<style scoped>\n",
       "    .dataframe tbody tr th:only-of-type {\n",
       "        vertical-align: middle;\n",
       "    }\n",
       "\n",
       "    .dataframe tbody tr th {\n",
       "        vertical-align: top;\n",
       "    }\n",
       "\n",
       "    .dataframe thead th {\n",
       "        text-align: right;\n",
       "    }\n",
       "</style>\n",
       "<table border=\"1\" class=\"dataframe\">\n",
       "  <thead>\n",
       "    <tr style=\"text-align: right;\">\n",
       "      <th></th>\n",
       "      <th>Name</th>\n",
       "      <th>Age</th>\n",
       "      <th>Last_Name</th>\n",
       "    </tr>\n",
       "  </thead>\n",
       "  <tbody>\n",
       "    <tr>\n",
       "      <th>Row1</th>\n",
       "      <td>John</td>\n",
       "      <td>25</td>\n",
       "      <td>NaN</td>\n",
       "    </tr>\n",
       "    <tr>\n",
       "      <th>Row2</th>\n",
       "      <td>Sam</td>\n",
       "      <td>20</td>\n",
       "      <td>NaN</td>\n",
       "    </tr>\n",
       "    <tr>\n",
       "      <th>Row3</th>\n",
       "      <td>Eric</td>\n",
       "      <td>30</td>\n",
       "      <td>NaN</td>\n",
       "    </tr>\n",
       "    <tr>\n",
       "      <th>Row4</th>\n",
       "      <td>Ken</td>\n",
       "      <td>28</td>\n",
       "      <td>Soto</td>\n",
       "    </tr>\n",
       "  </tbody>\n",
       "</table>\n",
       "</div>"
      ],
      "text/plain": [
       "      Name  Age Last_Name\n",
       "Row1  John   25       NaN\n",
       "Row2   Sam   20       NaN\n",
       "Row3  Eric   30       NaN\n",
       "Row4   Ken   28      Soto"
      ]
     },
     "execution_count": 63,
     "metadata": {},
     "output_type": "execute_result"
    }
   ],
   "source": [
    "dataframe2"
   ]
  },
  {
   "cell_type": "code",
   "execution_count": 64,
   "id": "84c90d3c",
   "metadata": {},
   "outputs": [
    {
     "name": "stdout",
     "output_type": "stream",
     "text": [
      "Name         Sam\n",
      "Age           20\n",
      "Last_Name    NaN\n",
      "Name: Row2, dtype: object\n"
     ]
    }
   ],
   "source": [
    "\n",
    "print (dataframe2.iloc [1])\n"
   ]
  },
  {
   "cell_type": "code",
   "execution_count": 65,
   "id": "312d017a",
   "metadata": {},
   "outputs": [
    {
     "name": "stdout",
     "output_type": "stream",
     "text": [
      "     Name  Age Last_Name\n",
      "Row2  Sam   20       NaN\n"
     ]
    }
   ],
   "source": [
    "print (dataframe2.iloc [[1]])"
   ]
  },
  {
   "cell_type": "code",
   "execution_count": 68,
   "id": "c4cb0930",
   "metadata": {},
   "outputs": [
    {
     "name": "stdout",
     "output_type": "stream",
     "text": [
      "      Name  Age Last_Name\n",
      "Row2   Sam   20       NaN\n",
      "Row3  Eric   30       NaN\n"
     ]
    }
   ],
   "source": [
    "print (dataframe2.iloc [1:3])\n",
    "\n"
   ]
  },
  {
   "cell_type": "code",
   "execution_count": 69,
   "id": "447c6f03",
   "metadata": {},
   "outputs": [
    {
     "name": "stdout",
     "output_type": "stream",
     "text": [
      "      Name  Age Last_Name\n",
      "Row1  John   25       NaN\n",
      "Row2   Sam   20       NaN\n",
      "Row3  Eric   30       NaN\n"
     ]
    }
   ],
   "source": [
    "print (dataframe2.iloc [:3])\n"
   ]
  },
  {
   "cell_type": "code",
   "execution_count": 67,
   "id": "0a83391d",
   "metadata": {},
   "outputs": [
    {
     "name": "stdout",
     "output_type": "stream",
     "text": [
      "      Name  Age Last_Name\n",
      "Row2   Sam   20       NaN\n",
      "Row3  Eric   30       NaN\n",
      "Row4   Ken   28      Soto\n"
     ]
    }
   ],
   "source": [
    "print (dataframe2.iloc [1:])"
   ]
  },
  {
   "cell_type": "code",
   "execution_count": 70,
   "id": "edb2dcac",
   "metadata": {},
   "outputs": [
    {
     "data": {
      "text/html": [
       "<div>\n",
       "<style scoped>\n",
       "    .dataframe tbody tr th:only-of-type {\n",
       "        vertical-align: middle;\n",
       "    }\n",
       "\n",
       "    .dataframe tbody tr th {\n",
       "        vertical-align: top;\n",
       "    }\n",
       "\n",
       "    .dataframe thead th {\n",
       "        text-align: right;\n",
       "    }\n",
       "</style>\n",
       "<table border=\"1\" class=\"dataframe\">\n",
       "  <thead>\n",
       "    <tr style=\"text-align: right;\">\n",
       "      <th></th>\n",
       "      <th>Name</th>\n",
       "      <th>Age</th>\n",
       "      <th>Last_Name</th>\n",
       "    </tr>\n",
       "  </thead>\n",
       "  <tbody>\n",
       "    <tr>\n",
       "      <th>Row1</th>\n",
       "      <td>John</td>\n",
       "      <td>25</td>\n",
       "      <td>NaN</td>\n",
       "    </tr>\n",
       "    <tr>\n",
       "      <th>Row2</th>\n",
       "      <td>Sam</td>\n",
       "      <td>20</td>\n",
       "      <td>NaN</td>\n",
       "    </tr>\n",
       "    <tr>\n",
       "      <th>Row3</th>\n",
       "      <td>Eric</td>\n",
       "      <td>30</td>\n",
       "      <td>NaN</td>\n",
       "    </tr>\n",
       "    <tr>\n",
       "      <th>Row4</th>\n",
       "      <td>Ken</td>\n",
       "      <td>28</td>\n",
       "      <td>Soto</td>\n",
       "    </tr>\n",
       "  </tbody>\n",
       "</table>\n",
       "</div>"
      ],
      "text/plain": [
       "      Name  Age Last_Name\n",
       "Row1  John   25       NaN\n",
       "Row2   Sam   20       NaN\n",
       "Row3  Eric   30       NaN\n",
       "Row4   Ken   28      Soto"
      ]
     },
     "execution_count": 70,
     "metadata": {},
     "output_type": "execute_result"
    }
   ],
   "source": [
    "dataframe2"
   ]
  },
  {
   "cell_type": "code",
   "execution_count": 77,
   "id": "27893c2f",
   "metadata": {},
   "outputs": [
    {
     "data": {
      "text/html": [
       "<div>\n",
       "<style scoped>\n",
       "    .dataframe tbody tr th:only-of-type {\n",
       "        vertical-align: middle;\n",
       "    }\n",
       "\n",
       "    .dataframe tbody tr th {\n",
       "        vertical-align: top;\n",
       "    }\n",
       "\n",
       "    .dataframe thead th {\n",
       "        text-align: right;\n",
       "    }\n",
       "</style>\n",
       "<table border=\"1\" class=\"dataframe\">\n",
       "  <thead>\n",
       "    <tr style=\"text-align: right;\">\n",
       "      <th></th>\n",
       "      <th>Name</th>\n",
       "      <th>Age</th>\n",
       "    </tr>\n",
       "  </thead>\n",
       "  <tbody>\n",
       "    <tr>\n",
       "      <th>Row2</th>\n",
       "      <td>Sam</td>\n",
       "      <td>20</td>\n",
       "    </tr>\n",
       "    <tr>\n",
       "      <th>Row3</th>\n",
       "      <td>Eric</td>\n",
       "      <td>30</td>\n",
       "    </tr>\n",
       "  </tbody>\n",
       "</table>\n",
       "</div>"
      ],
      "text/plain": [
       "      Name  Age\n",
       "Row2   Sam   20\n",
       "Row3  Eric   30"
      ]
     },
     "execution_count": 77,
     "metadata": {},
     "output_type": "execute_result"
    }
   ],
   "source": [
    "'''\n",
    "SAM   20\n",
    "ERIC  30\n",
    "'''\n",
    "dataframe2.iloc[1:3, 0:2]"
   ]
  },
  {
   "cell_type": "code",
   "execution_count": 81,
   "id": "98a826b7",
   "metadata": {},
   "outputs": [
    {
     "data": {
      "text/html": [
       "<div>\n",
       "<style scoped>\n",
       "    .dataframe tbody tr th:only-of-type {\n",
       "        vertical-align: middle;\n",
       "    }\n",
       "\n",
       "    .dataframe tbody tr th {\n",
       "        vertical-align: top;\n",
       "    }\n",
       "\n",
       "    .dataframe thead th {\n",
       "        text-align: right;\n",
       "    }\n",
       "</style>\n",
       "<table border=\"1\" class=\"dataframe\">\n",
       "  <thead>\n",
       "    <tr style=\"text-align: right;\">\n",
       "      <th></th>\n",
       "      <th>Name</th>\n",
       "      <th>Age</th>\n",
       "      <th>Last_Name</th>\n",
       "    </tr>\n",
       "  </thead>\n",
       "  <tbody>\n",
       "    <tr>\n",
       "      <th>Row1</th>\n",
       "      <td>John</td>\n",
       "      <td>25</td>\n",
       "      <td>NaN</td>\n",
       "    </tr>\n",
       "    <tr>\n",
       "      <th>Row2</th>\n",
       "      <td>Sam</td>\n",
       "      <td>20</td>\n",
       "      <td>NaN</td>\n",
       "    </tr>\n",
       "    <tr>\n",
       "      <th>Row3</th>\n",
       "      <td>Eric</td>\n",
       "      <td>30</td>\n",
       "      <td>NaN</td>\n",
       "    </tr>\n",
       "    <tr>\n",
       "      <th>Row4</th>\n",
       "      <td>Ken</td>\n",
       "      <td>28</td>\n",
       "      <td>Soto</td>\n",
       "    </tr>\n",
       "  </tbody>\n",
       "</table>\n",
       "</div>"
      ],
      "text/plain": [
       "      Name  Age Last_Name\n",
       "Row1  John   25       NaN\n",
       "Row2   Sam   20       NaN\n",
       "Row3  Eric   30       NaN\n",
       "Row4   Ken   28      Soto"
      ]
     },
     "execution_count": 81,
     "metadata": {},
     "output_type": "execute_result"
    }
   ],
   "source": [
    "dataframe2"
   ]
  },
  {
   "cell_type": "code",
   "execution_count": 82,
   "id": "4a02cf04",
   "metadata": {},
   "outputs": [
    {
     "data": {
      "text/html": [
       "<div>\n",
       "<style scoped>\n",
       "    .dataframe tbody tr th:only-of-type {\n",
       "        vertical-align: middle;\n",
       "    }\n",
       "\n",
       "    .dataframe tbody tr th {\n",
       "        vertical-align: top;\n",
       "    }\n",
       "\n",
       "    .dataframe thead th {\n",
       "        text-align: right;\n",
       "    }\n",
       "</style>\n",
       "<table border=\"1\" class=\"dataframe\">\n",
       "  <thead>\n",
       "    <tr style=\"text-align: right;\">\n",
       "      <th></th>\n",
       "      <th>Name</th>\n",
       "      <th>Age</th>\n",
       "    </tr>\n",
       "  </thead>\n",
       "  <tbody>\n",
       "    <tr>\n",
       "      <th>0</th>\n",
       "      <td>Bob</td>\n",
       "      <td>32</td>\n",
       "    </tr>\n",
       "    <tr>\n",
       "      <th>1</th>\n",
       "      <td>Mike</td>\n",
       "      <td>28</td>\n",
       "    </tr>\n",
       "  </tbody>\n",
       "</table>\n",
       "</div>"
      ],
      "text/plain": [
       "   Name  Age\n",
       "0   Bob   32\n",
       "1  Mike   28"
      ]
     },
     "execution_count": 82,
     "metadata": {},
     "output_type": "execute_result"
    }
   ],
   "source": [
    "row1=pd.DataFrame([['Bob',32],['Mike',28]],columns = ['Name', 'Age'])\n",
    "row1\n"
   ]
  },
  {
   "cell_type": "code",
   "execution_count": 83,
   "id": "5e37225a",
   "metadata": {},
   "outputs": [
    {
     "name": "stdout",
     "output_type": "stream",
     "text": [
      "      Name  Age Last_Name\n",
      "Row1  John   25       NaN\n",
      "Row2   Sam   20       NaN\n",
      "Row3  Eric   30       NaN\n",
      "Row4   Ken   28      Soto\n",
      "0      Bob   32       NaN\n",
      "1     Mike   28       NaN\n"
     ]
    },
    {
     "name": "stderr",
     "output_type": "stream",
     "text": [
      "C:\\Users\\noble\\AppData\\Local\\Temp\\ipykernel_11280\\3849135346.py:1: FutureWarning: The frame.append method is deprecated and will be removed from pandas in a future version. Use pandas.concat instead.\n",
      "  dataframe2 = dataframe2.append (row1)\n"
     ]
    }
   ],
   "source": [
    "dataframe2 = dataframe2.append (row1)\n",
    "print (dataframe2)\n"
   ]
  },
  {
   "cell_type": "code",
   "execution_count": 84,
   "id": "5e6a0cdc",
   "metadata": {},
   "outputs": [
    {
     "name": "stdout",
     "output_type": "stream",
     "text": [
      "      Name  Age Last_Name\n",
      "Row1  John   25       NaN\n",
      "Row2   Sam   20       NaN\n",
      "Row3  Eric   30       NaN\n",
      "Row4   Ken   28      Soto\n",
      "0      Bob   32       NaN\n",
      "1     Mike   28       NaN\n",
      "0      Bob   32       NaN\n",
      "1     Mike   28       NaN\n"
     ]
    },
    {
     "name": "stderr",
     "output_type": "stream",
     "text": [
      "C:\\Users\\noble\\AppData\\Local\\Temp\\ipykernel_11280\\638148685.py:1: FutureWarning: The frame.append method is deprecated and will be removed from pandas in a future version. Use pandas.concat instead.\n",
      "  dataframe2 = dataframe2.append (row1)\n"
     ]
    }
   ],
   "source": [
    "dataframe2 = dataframe2.append (row1)\n",
    "print (dataframe2)"
   ]
  },
  {
   "cell_type": "code",
   "execution_count": 90,
   "id": "302d5c7d",
   "metadata": {},
   "outputs": [
    {
     "data": {
      "text/html": [
       "<div>\n",
       "<style scoped>\n",
       "    .dataframe tbody tr th:only-of-type {\n",
       "        vertical-align: middle;\n",
       "    }\n",
       "\n",
       "    .dataframe tbody tr th {\n",
       "        vertical-align: top;\n",
       "    }\n",
       "\n",
       "    .dataframe thead th {\n",
       "        text-align: right;\n",
       "    }\n",
       "</style>\n",
       "<table border=\"1\" class=\"dataframe\">\n",
       "  <thead>\n",
       "    <tr style=\"text-align: right;\">\n",
       "      <th></th>\n",
       "      <th>Name</th>\n",
       "      <th>Age</th>\n",
       "      <th>Last_Name</th>\n",
       "    </tr>\n",
       "  </thead>\n",
       "  <tbody>\n",
       "    <tr>\n",
       "      <th>Row1</th>\n",
       "      <td>John</td>\n",
       "      <td>25</td>\n",
       "      <td>NaN</td>\n",
       "    </tr>\n",
       "    <tr>\n",
       "      <th>Row2</th>\n",
       "      <td>Sam</td>\n",
       "      <td>20</td>\n",
       "      <td>NaN</td>\n",
       "    </tr>\n",
       "    <tr>\n",
       "      <th>Row3</th>\n",
       "      <td>Eric</td>\n",
       "      <td>30</td>\n",
       "      <td>NaN</td>\n",
       "    </tr>\n",
       "    <tr>\n",
       "      <th>Row4</th>\n",
       "      <td>Ken</td>\n",
       "      <td>28</td>\n",
       "      <td>Soto</td>\n",
       "    </tr>\n",
       "    <tr>\n",
       "      <th>0</th>\n",
       "      <td>Bob</td>\n",
       "      <td>32</td>\n",
       "      <td>NaN</td>\n",
       "    </tr>\n",
       "    <tr>\n",
       "      <th>1</th>\n",
       "      <td>Mike</td>\n",
       "      <td>28</td>\n",
       "      <td>NaN</td>\n",
       "    </tr>\n",
       "    <tr>\n",
       "      <th>0</th>\n",
       "      <td>Bob</td>\n",
       "      <td>32</td>\n",
       "      <td>NaN</td>\n",
       "    </tr>\n",
       "    <tr>\n",
       "      <th>1</th>\n",
       "      <td>Mike</td>\n",
       "      <td>28</td>\n",
       "      <td>NaN</td>\n",
       "    </tr>\n",
       "  </tbody>\n",
       "</table>\n",
       "</div>"
      ],
      "text/plain": [
       "      Name  Age Last_Name\n",
       "Row1  John   25       NaN\n",
       "Row2   Sam   20       NaN\n",
       "Row3  Eric   30       NaN\n",
       "Row4   Ken   28      Soto\n",
       "0      Bob   32       NaN\n",
       "1     Mike   28       NaN\n",
       "0      Bob   32       NaN\n",
       "1     Mike   28       NaN"
      ]
     },
     "execution_count": 90,
     "metadata": {},
     "output_type": "execute_result"
    }
   ],
   "source": [
    "dataframe2"
   ]
  },
  {
   "cell_type": "code",
   "execution_count": 91,
   "id": "d658e446",
   "metadata": {},
   "outputs": [
    {
     "data": {
      "text/html": [
       "<div>\n",
       "<style scoped>\n",
       "    .dataframe tbody tr th:only-of-type {\n",
       "        vertical-align: middle;\n",
       "    }\n",
       "\n",
       "    .dataframe tbody tr th {\n",
       "        vertical-align: top;\n",
       "    }\n",
       "\n",
       "    .dataframe thead th {\n",
       "        text-align: right;\n",
       "    }\n",
       "</style>\n",
       "<table border=\"1\" class=\"dataframe\">\n",
       "  <thead>\n",
       "    <tr style=\"text-align: right;\">\n",
       "      <th></th>\n",
       "      <th>Name</th>\n",
       "      <th>Age</th>\n",
       "      <th>Last_Name</th>\n",
       "    </tr>\n",
       "  </thead>\n",
       "  <tbody>\n",
       "    <tr>\n",
       "      <th>Row2</th>\n",
       "      <td>Sam</td>\n",
       "      <td>20</td>\n",
       "      <td>NaN</td>\n",
       "    </tr>\n",
       "    <tr>\n",
       "      <th>Row3</th>\n",
       "      <td>Eric</td>\n",
       "      <td>30</td>\n",
       "      <td>NaN</td>\n",
       "    </tr>\n",
       "    <tr>\n",
       "      <th>Row4</th>\n",
       "      <td>Ken</td>\n",
       "      <td>28</td>\n",
       "      <td>Soto</td>\n",
       "    </tr>\n",
       "    <tr>\n",
       "      <th>0</th>\n",
       "      <td>Bob</td>\n",
       "      <td>32</td>\n",
       "      <td>NaN</td>\n",
       "    </tr>\n",
       "    <tr>\n",
       "      <th>1</th>\n",
       "      <td>Mike</td>\n",
       "      <td>28</td>\n",
       "      <td>NaN</td>\n",
       "    </tr>\n",
       "    <tr>\n",
       "      <th>0</th>\n",
       "      <td>Bob</td>\n",
       "      <td>32</td>\n",
       "      <td>NaN</td>\n",
       "    </tr>\n",
       "    <tr>\n",
       "      <th>1</th>\n",
       "      <td>Mike</td>\n",
       "      <td>28</td>\n",
       "      <td>NaN</td>\n",
       "    </tr>\n",
       "  </tbody>\n",
       "</table>\n",
       "</div>"
      ],
      "text/plain": [
       "      Name  Age Last_Name\n",
       "Row2   Sam   20       NaN\n",
       "Row3  Eric   30       NaN\n",
       "Row4   Ken   28      Soto\n",
       "0      Bob   32       NaN\n",
       "1     Mike   28       NaN\n",
       "0      Bob   32       NaN\n",
       "1     Mike   28       NaN"
      ]
     },
     "execution_count": 91,
     "metadata": {},
     "output_type": "execute_result"
    }
   ],
   "source": [
    "dataframe2.drop ('Row1')"
   ]
  },
  {
   "cell_type": "code",
   "execution_count": 93,
   "id": "dd3663ea",
   "metadata": {},
   "outputs": [
    {
     "name": "stdout",
     "output_type": "stream",
     "text": [
      "      Name  Age Last_Name\n",
      "Row2   Sam   20       NaN\n",
      "Row3  Eric   30       NaN\n",
      "Row4   Ken   28      Soto\n",
      "0      Bob   32       NaN\n",
      "1     Mike   28       NaN\n",
      "0      Bob   32       NaN\n",
      "1     Mike   28       NaN\n"
     ]
    }
   ],
   "source": [
    "Dataframe2=dataframe2.drop ('Row1')\n",
    "print (Dataframe2)\n",
    "Dataframe2=dataframe2.drop (0)\n"
   ]
  },
  {
   "cell_type": "code",
   "execution_count": 89,
   "id": "b3d04a4c",
   "metadata": {},
   "outputs": [
    {
     "name": "stdout",
     "output_type": "stream",
     "text": [
      "      Name  Age Last_Name\n",
      "Row1  John   25       NaN\n",
      "Row2   Sam   20       NaN\n",
      "Row3  Eric   30       NaN\n",
      "Row4   Ken   28      Soto\n",
      "1     Mike   28       NaN\n",
      "1     Mike   28       NaN\n"
     ]
    }
   ],
   "source": [
    "print (Dataframe2)"
   ]
  },
  {
   "cell_type": "code",
   "execution_count": 94,
   "id": "182130de",
   "metadata": {},
   "outputs": [
    {
     "data": {
      "text/html": [
       "<div>\n",
       "<style scoped>\n",
       "    .dataframe tbody tr th:only-of-type {\n",
       "        vertical-align: middle;\n",
       "    }\n",
       "\n",
       "    .dataframe tbody tr th {\n",
       "        vertical-align: top;\n",
       "    }\n",
       "\n",
       "    .dataframe thead th {\n",
       "        text-align: right;\n",
       "    }\n",
       "</style>\n",
       "<table border=\"1\" class=\"dataframe\">\n",
       "  <thead>\n",
       "    <tr style=\"text-align: right;\">\n",
       "      <th></th>\n",
       "      <th>Name</th>\n",
       "      <th>Age</th>\n",
       "      <th>Last_Name</th>\n",
       "    </tr>\n",
       "  </thead>\n",
       "  <tbody>\n",
       "    <tr>\n",
       "      <th>Row1</th>\n",
       "      <td>John</td>\n",
       "      <td>25</td>\n",
       "      <td>NaN</td>\n",
       "    </tr>\n",
       "    <tr>\n",
       "      <th>Row2</th>\n",
       "      <td>Sam</td>\n",
       "      <td>20</td>\n",
       "      <td>NaN</td>\n",
       "    </tr>\n",
       "    <tr>\n",
       "      <th>Row3</th>\n",
       "      <td>Eric</td>\n",
       "      <td>30</td>\n",
       "      <td>NaN</td>\n",
       "    </tr>\n",
       "    <tr>\n",
       "      <th>Row4</th>\n",
       "      <td>Ken</td>\n",
       "      <td>28</td>\n",
       "      <td>Soto</td>\n",
       "    </tr>\n",
       "    <tr>\n",
       "      <th>1</th>\n",
       "      <td>Mike</td>\n",
       "      <td>28</td>\n",
       "      <td>NaN</td>\n",
       "    </tr>\n",
       "    <tr>\n",
       "      <th>1</th>\n",
       "      <td>Mike</td>\n",
       "      <td>28</td>\n",
       "      <td>NaN</td>\n",
       "    </tr>\n",
       "  </tbody>\n",
       "</table>\n",
       "</div>"
      ],
      "text/plain": [
       "      Name  Age Last_Name\n",
       "Row1  John   25       NaN\n",
       "Row2   Sam   20       NaN\n",
       "Row3  Eric   30       NaN\n",
       "Row4   Ken   28      Soto\n",
       "1     Mike   28       NaN\n",
       "1     Mike   28       NaN"
      ]
     },
     "execution_count": 94,
     "metadata": {},
     "output_type": "execute_result"
    }
   ],
   "source": [
    "Dataframe2"
   ]
  },
  {
   "cell_type": "code",
   "execution_count": 95,
   "id": "1067d9ea",
   "metadata": {},
   "outputs": [
    {
     "data": {
      "text/html": [
       "<div>\n",
       "<style scoped>\n",
       "    .dataframe tbody tr th:only-of-type {\n",
       "        vertical-align: middle;\n",
       "    }\n",
       "\n",
       "    .dataframe tbody tr th {\n",
       "        vertical-align: top;\n",
       "    }\n",
       "\n",
       "    .dataframe thead th {\n",
       "        text-align: right;\n",
       "    }\n",
       "</style>\n",
       "<table border=\"1\" class=\"dataframe\">\n",
       "  <thead>\n",
       "    <tr style=\"text-align: right;\">\n",
       "      <th></th>\n",
       "      <th>Name</th>\n",
       "      <th>Age</th>\n",
       "      <th>Last_Name</th>\n",
       "    </tr>\n",
       "  </thead>\n",
       "  <tbody>\n",
       "    <tr>\n",
       "      <th>Row2</th>\n",
       "      <td>Sam</td>\n",
       "      <td>20</td>\n",
       "      <td>NaN</td>\n",
       "    </tr>\n",
       "    <tr>\n",
       "      <th>Row3</th>\n",
       "      <td>Eric</td>\n",
       "      <td>30</td>\n",
       "      <td>NaN</td>\n",
       "    </tr>\n",
       "    <tr>\n",
       "      <th>Row4</th>\n",
       "      <td>Ken</td>\n",
       "      <td>28</td>\n",
       "      <td>Soto</td>\n",
       "    </tr>\n",
       "    <tr>\n",
       "      <th>0</th>\n",
       "      <td>Bob</td>\n",
       "      <td>32</td>\n",
       "      <td>NaN</td>\n",
       "    </tr>\n",
       "    <tr>\n",
       "      <th>1</th>\n",
       "      <td>Mike</td>\n",
       "      <td>28</td>\n",
       "      <td>NaN</td>\n",
       "    </tr>\n",
       "    <tr>\n",
       "      <th>0</th>\n",
       "      <td>Bob</td>\n",
       "      <td>32</td>\n",
       "      <td>NaN</td>\n",
       "    </tr>\n",
       "    <tr>\n",
       "      <th>1</th>\n",
       "      <td>Mike</td>\n",
       "      <td>28</td>\n",
       "      <td>NaN</td>\n",
       "    </tr>\n",
       "  </tbody>\n",
       "</table>\n",
       "</div>"
      ],
      "text/plain": [
       "      Name  Age Last_Name\n",
       "Row2   Sam   20       NaN\n",
       "Row3  Eric   30       NaN\n",
       "Row4   Ken   28      Soto\n",
       "0      Bob   32       NaN\n",
       "1     Mike   28       NaN\n",
       "0      Bob   32       NaN\n",
       "1     Mike   28       NaN"
      ]
     },
     "execution_count": 95,
     "metadata": {},
     "output_type": "execute_result"
    }
   ],
   "source": [
    "Dataframe2=dataframe2.drop ('Row1')\n",
    "Dataframe2"
   ]
  },
  {
   "cell_type": "code",
   "execution_count": 96,
   "id": "1f0baa29",
   "metadata": {},
   "outputs": [
    {
     "data": {
      "text/html": [
       "<div>\n",
       "<style scoped>\n",
       "    .dataframe tbody tr th:only-of-type {\n",
       "        vertical-align: middle;\n",
       "    }\n",
       "\n",
       "    .dataframe tbody tr th {\n",
       "        vertical-align: top;\n",
       "    }\n",
       "\n",
       "    .dataframe thead th {\n",
       "        text-align: right;\n",
       "    }\n",
       "</style>\n",
       "<table border=\"1\" class=\"dataframe\">\n",
       "  <thead>\n",
       "    <tr style=\"text-align: right;\">\n",
       "      <th></th>\n",
       "      <th>Name</th>\n",
       "      <th>Age</th>\n",
       "      <th>Last_Name</th>\n",
       "    </tr>\n",
       "  </thead>\n",
       "  <tbody>\n",
       "    <tr>\n",
       "      <th>Row2</th>\n",
       "      <td>Sam</td>\n",
       "      <td>20</td>\n",
       "      <td>NaN</td>\n",
       "    </tr>\n",
       "    <tr>\n",
       "      <th>Row3</th>\n",
       "      <td>Eric</td>\n",
       "      <td>30</td>\n",
       "      <td>NaN</td>\n",
       "    </tr>\n",
       "    <tr>\n",
       "      <th>Row4</th>\n",
       "      <td>Ken</td>\n",
       "      <td>28</td>\n",
       "      <td>Soto</td>\n",
       "    </tr>\n",
       "    <tr>\n",
       "      <th>0</th>\n",
       "      <td>Bob</td>\n",
       "      <td>32</td>\n",
       "      <td>NaN</td>\n",
       "    </tr>\n",
       "    <tr>\n",
       "      <th>1</th>\n",
       "      <td>Mike</td>\n",
       "      <td>28</td>\n",
       "      <td>NaN</td>\n",
       "    </tr>\n",
       "    <tr>\n",
       "      <th>0</th>\n",
       "      <td>Bob</td>\n",
       "      <td>32</td>\n",
       "      <td>NaN</td>\n",
       "    </tr>\n",
       "    <tr>\n",
       "      <th>1</th>\n",
       "      <td>Mike</td>\n",
       "      <td>28</td>\n",
       "      <td>NaN</td>\n",
       "    </tr>\n",
       "  </tbody>\n",
       "</table>\n",
       "</div>"
      ],
      "text/plain": [
       "      Name  Age Last_Name\n",
       "Row2   Sam   20       NaN\n",
       "Row3  Eric   30       NaN\n",
       "Row4   Ken   28      Soto\n",
       "0      Bob   32       NaN\n",
       "1     Mike   28       NaN\n",
       "0      Bob   32       NaN\n",
       "1     Mike   28       NaN"
      ]
     },
     "execution_count": 96,
     "metadata": {},
     "output_type": "execute_result"
    }
   ],
   "source": [
    "Dataframe2"
   ]
  },
  {
   "cell_type": "code",
   "execution_count": 97,
   "id": "4ec83029",
   "metadata": {},
   "outputs": [
    {
     "data": {
      "text/html": [
       "<div>\n",
       "<style scoped>\n",
       "    .dataframe tbody tr th:only-of-type {\n",
       "        vertical-align: middle;\n",
       "    }\n",
       "\n",
       "    .dataframe tbody tr th {\n",
       "        vertical-align: top;\n",
       "    }\n",
       "\n",
       "    .dataframe thead th {\n",
       "        text-align: right;\n",
       "    }\n",
       "</style>\n",
       "<table border=\"1\" class=\"dataframe\">\n",
       "  <thead>\n",
       "    <tr style=\"text-align: right;\">\n",
       "      <th></th>\n",
       "      <th>Name</th>\n",
       "      <th>Age</th>\n",
       "      <th>Last_Name</th>\n",
       "    </tr>\n",
       "  </thead>\n",
       "  <tbody>\n",
       "    <tr>\n",
       "      <th>Row2</th>\n",
       "      <td>Sam</td>\n",
       "      <td>20</td>\n",
       "      <td>NaN</td>\n",
       "    </tr>\n",
       "    <tr>\n",
       "      <th>Row3</th>\n",
       "      <td>Eric</td>\n",
       "      <td>30</td>\n",
       "      <td>NaN</td>\n",
       "    </tr>\n",
       "    <tr>\n",
       "      <th>Row4</th>\n",
       "      <td>Ken</td>\n",
       "      <td>28</td>\n",
       "      <td>Soto</td>\n",
       "    </tr>\n",
       "    <tr>\n",
       "      <th>1</th>\n",
       "      <td>Mike</td>\n",
       "      <td>28</td>\n",
       "      <td>NaN</td>\n",
       "    </tr>\n",
       "    <tr>\n",
       "      <th>1</th>\n",
       "      <td>Mike</td>\n",
       "      <td>28</td>\n",
       "      <td>NaN</td>\n",
       "    </tr>\n",
       "  </tbody>\n",
       "</table>\n",
       "</div>"
      ],
      "text/plain": [
       "      Name  Age Last_Name\n",
       "Row2   Sam   20       NaN\n",
       "Row3  Eric   30       NaN\n",
       "Row4   Ken   28      Soto\n",
       "1     Mike   28       NaN\n",
       "1     Mike   28       NaN"
      ]
     },
     "execution_count": 97,
     "metadata": {},
     "output_type": "execute_result"
    }
   ],
   "source": [
    "Dataframe2= Dataframe2.drop (0)\n",
    "Dataframe2"
   ]
  },
  {
   "cell_type": "code",
   "execution_count": 98,
   "id": "15075034",
   "metadata": {},
   "outputs": [
    {
     "data": {
      "text/html": [
       "<div>\n",
       "<style scoped>\n",
       "    .dataframe tbody tr th:only-of-type {\n",
       "        vertical-align: middle;\n",
       "    }\n",
       "\n",
       "    .dataframe tbody tr th {\n",
       "        vertical-align: top;\n",
       "    }\n",
       "\n",
       "    .dataframe thead th {\n",
       "        text-align: right;\n",
       "    }\n",
       "</style>\n",
       "<table border=\"1\" class=\"dataframe\">\n",
       "  <thead>\n",
       "    <tr style=\"text-align: right;\">\n",
       "      <th></th>\n",
       "      <th>one</th>\n",
       "      <th>two</th>\n",
       "      <th>three</th>\n",
       "      <th>Four</th>\n",
       "      <th>Five</th>\n",
       "    </tr>\n",
       "  </thead>\n",
       "  <tbody>\n",
       "    <tr>\n",
       "      <th>a</th>\n",
       "      <td>1.0</td>\n",
       "      <td>10</td>\n",
       "      <td>10.0</td>\n",
       "      <td>32.0</td>\n",
       "      <td>40.0</td>\n",
       "    </tr>\n",
       "    <tr>\n",
       "      <th>b</th>\n",
       "      <td>2.0</td>\n",
       "      <td>15</td>\n",
       "      <td>20.0</td>\n",
       "      <td>31.0</td>\n",
       "      <td>41.0</td>\n",
       "    </tr>\n",
       "    <tr>\n",
       "      <th>c</th>\n",
       "      <td>3.0</td>\n",
       "      <td>20</td>\n",
       "      <td>50.0</td>\n",
       "      <td>NaN</td>\n",
       "      <td>NaN</td>\n",
       "    </tr>\n",
       "    <tr>\n",
       "      <th>d</th>\n",
       "      <td>NaN</td>\n",
       "      <td>30</td>\n",
       "      <td>NaN</td>\n",
       "      <td>30.0</td>\n",
       "      <td>NaN</td>\n",
       "    </tr>\n",
       "  </tbody>\n",
       "</table>\n",
       "</div>"
      ],
      "text/plain": [
       "   one  two  three  Four  Five\n",
       "a  1.0   10   10.0  32.0  40.0\n",
       "b  2.0   15   20.0  31.0  41.0\n",
       "c  3.0   20   50.0   NaN   NaN\n",
       "d  NaN   30    NaN  30.0   NaN"
      ]
     },
     "execution_count": 98,
     "metadata": {},
     "output_type": "execute_result"
    }
   ],
   "source": [
    "Ser"
   ]
  },
  {
   "cell_type": "code",
   "execution_count": 99,
   "id": "e451de5c",
   "metadata": {},
   "outputs": [
    {
     "name": "stdout",
     "output_type": "stream",
     "text": [
      "   one  two  Four  Five\n",
      "a  1.0   10  32.0  40.0\n",
      "b  2.0   15  31.0  41.0\n",
      "c  3.0   20   NaN   NaN\n",
      "d  NaN   30  30.0   NaN\n"
     ]
    }
   ],
   "source": [
    "del(Ser['three'])\n",
    "print (Ser)\n"
   ]
  },
  {
   "cell_type": "code",
   "execution_count": 103,
   "id": "4b436e61",
   "metadata": {},
   "outputs": [],
   "source": [
    "Ser= Ser.drop ('Five', axis =1)"
   ]
  },
  {
   "cell_type": "code",
   "execution_count": 104,
   "id": "9acfab9c",
   "metadata": {},
   "outputs": [
    {
     "data": {
      "text/html": [
       "<div>\n",
       "<style scoped>\n",
       "    .dataframe tbody tr th:only-of-type {\n",
       "        vertical-align: middle;\n",
       "    }\n",
       "\n",
       "    .dataframe tbody tr th {\n",
       "        vertical-align: top;\n",
       "    }\n",
       "\n",
       "    .dataframe thead th {\n",
       "        text-align: right;\n",
       "    }\n",
       "</style>\n",
       "<table border=\"1\" class=\"dataframe\">\n",
       "  <thead>\n",
       "    <tr style=\"text-align: right;\">\n",
       "      <th></th>\n",
       "      <th>one</th>\n",
       "      <th>two</th>\n",
       "      <th>Four</th>\n",
       "    </tr>\n",
       "  </thead>\n",
       "  <tbody>\n",
       "    <tr>\n",
       "      <th>a</th>\n",
       "      <td>1.0</td>\n",
       "      <td>10</td>\n",
       "      <td>32.0</td>\n",
       "    </tr>\n",
       "    <tr>\n",
       "      <th>b</th>\n",
       "      <td>2.0</td>\n",
       "      <td>15</td>\n",
       "      <td>31.0</td>\n",
       "    </tr>\n",
       "    <tr>\n",
       "      <th>c</th>\n",
       "      <td>3.0</td>\n",
       "      <td>20</td>\n",
       "      <td>NaN</td>\n",
       "    </tr>\n",
       "    <tr>\n",
       "      <th>d</th>\n",
       "      <td>NaN</td>\n",
       "      <td>30</td>\n",
       "      <td>30.0</td>\n",
       "    </tr>\n",
       "  </tbody>\n",
       "</table>\n",
       "</div>"
      ],
      "text/plain": [
       "   one  two  Four\n",
       "a  1.0   10  32.0\n",
       "b  2.0   15  31.0\n",
       "c  3.0   20   NaN\n",
       "d  NaN   30  30.0"
      ]
     },
     "execution_count": 104,
     "metadata": {},
     "output_type": "execute_result"
    }
   ],
   "source": [
    "Ser"
   ]
  },
  {
   "cell_type": "code",
   "execution_count": 107,
   "id": "4e12c2ec",
   "metadata": {},
   "outputs": [
    {
     "data": {
      "text/html": [
       "<div>\n",
       "<style scoped>\n",
       "    .dataframe tbody tr th:only-of-type {\n",
       "        vertical-align: middle;\n",
       "    }\n",
       "\n",
       "    .dataframe tbody tr th {\n",
       "        vertical-align: top;\n",
       "    }\n",
       "\n",
       "    .dataframe thead th {\n",
       "        text-align: right;\n",
       "    }\n",
       "</style>\n",
       "<table border=\"1\" class=\"dataframe\">\n",
       "  <thead>\n",
       "    <tr style=\"text-align: right;\">\n",
       "      <th></th>\n",
       "      <th>two</th>\n",
       "      <th>Four</th>\n",
       "    </tr>\n",
       "  </thead>\n",
       "  <tbody>\n",
       "    <tr>\n",
       "      <th>a</th>\n",
       "      <td>10</td>\n",
       "      <td>32.0</td>\n",
       "    </tr>\n",
       "    <tr>\n",
       "      <th>b</th>\n",
       "      <td>15</td>\n",
       "      <td>31.0</td>\n",
       "    </tr>\n",
       "    <tr>\n",
       "      <th>c</th>\n",
       "      <td>20</td>\n",
       "      <td>NaN</td>\n",
       "    </tr>\n",
       "    <tr>\n",
       "      <th>d</th>\n",
       "      <td>30</td>\n",
       "      <td>30.0</td>\n",
       "    </tr>\n",
       "  </tbody>\n",
       "</table>\n",
       "</div>"
      ],
      "text/plain": [
       "   two  Four\n",
       "a   10  32.0\n",
       "b   15  31.0\n",
       "c   20   NaN\n",
       "d   30  30.0"
      ]
     },
     "execution_count": 107,
     "metadata": {},
     "output_type": "execute_result"
    }
   ],
   "source": [
    "Ser"
   ]
  },
  {
   "cell_type": "code",
   "execution_count": 108,
   "id": "eb05815f",
   "metadata": {},
   "outputs": [
    {
     "name": "stdout",
     "output_type": "stream",
     "text": [
      "   Four\n",
      "a  32.0\n",
      "b  31.0\n",
      "c   NaN\n",
      "d  30.0\n",
      "a    10\n",
      "b    15\n",
      "c    20\n",
      "d    30\n",
      "Name: two, dtype: int64\n"
     ]
    }
   ],
   "source": [
    "x= Ser.pop('two')\n",
    "print (Ser)\n",
    "print (x)\n"
   ]
  },
  {
   "cell_type": "code",
   "execution_count": 109,
   "id": "157c5e8e",
   "metadata": {},
   "outputs": [
    {
     "data": {
      "text/plain": [
       "a    10\n",
       "b    15\n",
       "c    20\n",
       "d    30\n",
       "Name: two, dtype: int64"
      ]
     },
     "execution_count": 109,
     "metadata": {},
     "output_type": "execute_result"
    }
   ],
   "source": [
    "x"
   ]
  },
  {
   "cell_type": "code",
   "execution_count": 110,
   "id": "31d15d0a",
   "metadata": {},
   "outputs": [
    {
     "data": {
      "text/html": [
       "<div>\n",
       "<style scoped>\n",
       "    .dataframe tbody tr th:only-of-type {\n",
       "        vertical-align: middle;\n",
       "    }\n",
       "\n",
       "    .dataframe tbody tr th {\n",
       "        vertical-align: top;\n",
       "    }\n",
       "\n",
       "    .dataframe thead th {\n",
       "        text-align: right;\n",
       "    }\n",
       "</style>\n",
       "<table border=\"1\" class=\"dataframe\">\n",
       "  <thead>\n",
       "    <tr style=\"text-align: right;\">\n",
       "      <th></th>\n",
       "      <th>Four</th>\n",
       "    </tr>\n",
       "  </thead>\n",
       "  <tbody>\n",
       "    <tr>\n",
       "      <th>a</th>\n",
       "      <td>32.0</td>\n",
       "    </tr>\n",
       "    <tr>\n",
       "      <th>b</th>\n",
       "      <td>31.0</td>\n",
       "    </tr>\n",
       "    <tr>\n",
       "      <th>c</th>\n",
       "      <td>NaN</td>\n",
       "    </tr>\n",
       "    <tr>\n",
       "      <th>d</th>\n",
       "      <td>30.0</td>\n",
       "    </tr>\n",
       "  </tbody>\n",
       "</table>\n",
       "</div>"
      ],
      "text/plain": [
       "   Four\n",
       "a  32.0\n",
       "b  31.0\n",
       "c   NaN\n",
       "d  30.0"
      ]
     },
     "execution_count": 110,
     "metadata": {},
     "output_type": "execute_result"
    }
   ],
   "source": [
    "Ser"
   ]
  },
  {
   "cell_type": "code",
   "execution_count": 111,
   "id": "e925d906",
   "metadata": {},
   "outputs": [
    {
     "name": "stdout",
     "output_type": "stream",
     "text": [
      "     Student_id First_Name Last_Name\n",
      "0  AAA-123-2211        Sam    Edison\n",
      "1  BBB-542-8542        Jim       Mon\n",
      "2  CCC-854-8541       Rick      Dany\n",
      "3  AAA-856-7458        Ben     Denil\n",
      "4  DDD-745-7841      Kevin    Pocket\n"
     ]
    }
   ],
   "source": [
    "Student_Data = {'Student_id': ['AAA-123-2211','BBB-542-8542','CCC-854-8541','AAA-856-7458',\n",
    "                               'DDD-745-7841'], 'First_Name': ['Sam','Jim','Rick','Ben','Kevin'],\n",
    "               'Last_Name': ['Edison','Mon','Dany','Denil','Pocket']}\n",
    "student= pd.DataFrame (Student_Data, columns = ['Student_id','First_Name','Last_Name'])\n",
    "print (student)\n"
   ]
  },
  {
   "cell_type": "code",
   "execution_count": 112,
   "id": "e155d224",
   "metadata": {},
   "outputs": [
    {
     "data": {
      "text/html": [
       "<div>\n",
       "<style scoped>\n",
       "    .dataframe tbody tr th:only-of-type {\n",
       "        vertical-align: middle;\n",
       "    }\n",
       "\n",
       "    .dataframe tbody tr th {\n",
       "        vertical-align: top;\n",
       "    }\n",
       "\n",
       "    .dataframe thead th {\n",
       "        text-align: right;\n",
       "    }\n",
       "</style>\n",
       "<table border=\"1\" class=\"dataframe\">\n",
       "  <thead>\n",
       "    <tr style=\"text-align: right;\">\n",
       "      <th></th>\n",
       "      <th>stu_id</th>\n",
       "      <th>course</th>\n",
       "      <th>duration</th>\n",
       "    </tr>\n",
       "  </thead>\n",
       "  <tbody>\n",
       "    <tr>\n",
       "      <th>0</th>\n",
       "      <td>AAA-123-2211</td>\n",
       "      <td>ML</td>\n",
       "      <td>3</td>\n",
       "    </tr>\n",
       "    <tr>\n",
       "      <th>1</th>\n",
       "      <td>BBB-542-8542</td>\n",
       "      <td>DS</td>\n",
       "      <td>4</td>\n",
       "    </tr>\n",
       "    <tr>\n",
       "      <th>2</th>\n",
       "      <td>CCC-854-7458</td>\n",
       "      <td>RPA</td>\n",
       "      <td>2</td>\n",
       "    </tr>\n",
       "    <tr>\n",
       "      <th>3</th>\n",
       "      <td>AAA-856-7458</td>\n",
       "      <td>BI</td>\n",
       "      <td>5</td>\n",
       "    </tr>\n",
       "    <tr>\n",
       "      <th>4</th>\n",
       "      <td>DDD-745-7841</td>\n",
       "      <td>DL</td>\n",
       "      <td>2</td>\n",
       "    </tr>\n",
       "  </tbody>\n",
       "</table>\n",
       "</div>"
      ],
      "text/plain": [
       "         stu_id course  duration\n",
       "0  AAA-123-2211     ML         3\n",
       "1  BBB-542-8542     DS         4\n",
       "2  CCC-854-7458    RPA         2\n",
       "3  AAA-856-7458     BI         5\n",
       "4  DDD-745-7841     DL         2"
      ]
     },
     "execution_count": 112,
     "metadata": {},
     "output_type": "execute_result"
    }
   ],
   "source": [
    "Student_Course= {'stu_id':['AAA-123-2211','BBB-542-8542','CCC-854-7458','AAA-856-7458',\n",
    "                               'DDD-745-7841'],'course':['ML','DS','RPA','BI','DL'],\n",
    "                 'duration':[3,4,2,5,2]}\n",
    "course = pd.DataFrame(Student_Course)\n",
    "course\n"
   ]
  },
  {
   "cell_type": "code",
   "execution_count": 113,
   "id": "d80a5f6a",
   "metadata": {},
   "outputs": [
    {
     "name": "stdout",
     "output_type": "stream",
     "text": [
      "     Student_id First_Name Last_Name        stu_id course  duration\n",
      "0  AAA-123-2211        Sam    Edison           NaN    NaN       NaN\n",
      "1  BBB-542-8542        Jim       Mon           NaN    NaN       NaN\n",
      "2  CCC-854-8541       Rick      Dany           NaN    NaN       NaN\n",
      "3  AAA-856-7458        Ben     Denil           NaN    NaN       NaN\n",
      "4  DDD-745-7841      Kevin    Pocket           NaN    NaN       NaN\n",
      "0           NaN        NaN       NaN  AAA-123-2211     ML       3.0\n",
      "1           NaN        NaN       NaN  BBB-542-8542     DS       4.0\n",
      "2           NaN        NaN       NaN  CCC-854-7458    RPA       2.0\n",
      "3           NaN        NaN       NaN  AAA-856-7458     BI       5.0\n",
      "4           NaN        NaN       NaN  DDD-745-7841     DL       2.0\n"
     ]
    }
   ],
   "source": [
    "print (pd.concat([student,course]))"
   ]
  },
  {
   "cell_type": "code",
   "execution_count": 114,
   "id": "0be631ee",
   "metadata": {},
   "outputs": [
    {
     "name": "stdout",
     "output_type": "stream",
     "text": [
      "         stu_id First_Name Last_Name\n",
      "0  AAA-123-2211        Sam    Edison\n",
      "1  BBB-542-8542        Jim       Mon\n",
      "2  CCC-854-8541       Rick      Dany\n",
      "3  AAA-856-7458        Ben     Denil\n",
      "4  DDD-745-7841      Kevin    Pocket\n"
     ]
    }
   ],
   "source": [
    "Student_Data = {'stu_id': ['AAA-123-2211','BBB-542-8542','CCC-854-8541','AAA-856-7458',\n",
    "                               'DDD-745-7841'], 'First_Name': ['Sam','Jim','Rick','Ben','Kevin'],\n",
    "               'Last_Name': ['Edison','Mon','Dany','Denil','Pocket']}\n",
    "student= pd.DataFrame (Student_Data, columns = ['stu_id','First_Name','Last_Name'])\n",
    "print (student)\n"
   ]
  },
  {
   "cell_type": "code",
   "execution_count": 115,
   "id": "05ed90d9",
   "metadata": {},
   "outputs": [
    {
     "name": "stdout",
     "output_type": "stream",
     "text": [
      "         stu_id First_Name Last_Name course  duration\n",
      "0  AAA-123-2211        Sam    Edison    NaN       NaN\n",
      "1  BBB-542-8542        Jim       Mon    NaN       NaN\n",
      "2  CCC-854-8541       Rick      Dany    NaN       NaN\n",
      "3  AAA-856-7458        Ben     Denil    NaN       NaN\n",
      "4  DDD-745-7841      Kevin    Pocket    NaN       NaN\n",
      "0  AAA-123-2211        NaN       NaN     ML       3.0\n",
      "1  BBB-542-8542        NaN       NaN     DS       4.0\n",
      "2  CCC-854-7458        NaN       NaN    RPA       2.0\n",
      "3  AAA-856-7458        NaN       NaN     BI       5.0\n",
      "4  DDD-745-7841        NaN       NaN     DL       2.0\n"
     ]
    }
   ],
   "source": [
    "print (pd.concat([student,course]))"
   ]
  },
  {
   "cell_type": "code",
   "execution_count": 116,
   "id": "33573727",
   "metadata": {},
   "outputs": [
    {
     "name": "stdout",
     "output_type": "stream",
     "text": [
      "         stu_id First_Name Last_Name        stu_id course  duration\n",
      "0  AAA-123-2211        Sam    Edison  AAA-123-2211     ML         3\n",
      "1  BBB-542-8542        Jim       Mon  BBB-542-8542     DS         4\n",
      "2  CCC-854-8541       Rick      Dany  CCC-854-7458    RPA         2\n",
      "3  AAA-856-7458        Ben     Denil  AAA-856-7458     BI         5\n",
      "4  DDD-745-7841      Kevin    Pocket  DDD-745-7841     DL         2\n"
     ]
    }
   ],
   "source": [
    "print (pd.concat([student,course], axis =1))"
   ]
  },
  {
   "cell_type": "code",
   "execution_count": 117,
   "id": "a632a292",
   "metadata": {},
   "outputs": [
    {
     "name": "stdout",
     "output_type": "stream",
     "text": [
      "     Student_id First_Name Last_Name\n",
      "0  AAA-123-2211        Sam    Edison\n",
      "1  BBB-542-8542        Jim       Mon\n",
      "2  CCC-854-8541       Rick      Dany\n",
      "3  AAA-856-7458        Ben     Denil\n",
      "4  DDD-745-7841      Kevin    Pocket\n"
     ]
    }
   ],
   "source": [
    "Student_Data = {'Student_id': ['AAA-123-2211','BBB-542-8542','CCC-854-8541','AAA-856-7458',\n",
    "                               'DDD-745-7841'], 'First_Name': ['Sam','Jim','Rick','Ben','Kevin'],\n",
    "               'Last_Name': ['Edison','Mon','Dany','Denil','Pocket']}\n",
    "student= pd.DataFrame (Student_Data, columns = ['Student_id','First_Name','Last_Name'])\n",
    "print (student)\n"
   ]
  },
  {
   "cell_type": "code",
   "execution_count": 118,
   "id": "5cc7ede3",
   "metadata": {},
   "outputs": [
    {
     "data": {
      "text/html": [
       "<div>\n",
       "<style scoped>\n",
       "    .dataframe tbody tr th:only-of-type {\n",
       "        vertical-align: middle;\n",
       "    }\n",
       "\n",
       "    .dataframe tbody tr th {\n",
       "        vertical-align: top;\n",
       "    }\n",
       "\n",
       "    .dataframe thead th {\n",
       "        text-align: right;\n",
       "    }\n",
       "</style>\n",
       "<table border=\"1\" class=\"dataframe\">\n",
       "  <thead>\n",
       "    <tr style=\"text-align: right;\">\n",
       "      <th></th>\n",
       "      <th>Student_id</th>\n",
       "      <th>First_Name</th>\n",
       "      <th>Last_Name</th>\n",
       "      <th>stu_id</th>\n",
       "      <th>course</th>\n",
       "      <th>duration</th>\n",
       "    </tr>\n",
       "  </thead>\n",
       "  <tbody>\n",
       "    <tr>\n",
       "      <th>0</th>\n",
       "      <td>AAA-123-2211</td>\n",
       "      <td>Sam</td>\n",
       "      <td>Edison</td>\n",
       "      <td>AAA-123-2211</td>\n",
       "      <td>ML</td>\n",
       "      <td>3</td>\n",
       "    </tr>\n",
       "    <tr>\n",
       "      <th>1</th>\n",
       "      <td>BBB-542-8542</td>\n",
       "      <td>Jim</td>\n",
       "      <td>Mon</td>\n",
       "      <td>BBB-542-8542</td>\n",
       "      <td>DS</td>\n",
       "      <td>4</td>\n",
       "    </tr>\n",
       "    <tr>\n",
       "      <th>2</th>\n",
       "      <td>AAA-856-7458</td>\n",
       "      <td>Ben</td>\n",
       "      <td>Denil</td>\n",
       "      <td>AAA-856-7458</td>\n",
       "      <td>BI</td>\n",
       "      <td>5</td>\n",
       "    </tr>\n",
       "    <tr>\n",
       "      <th>3</th>\n",
       "      <td>DDD-745-7841</td>\n",
       "      <td>Kevin</td>\n",
       "      <td>Pocket</td>\n",
       "      <td>DDD-745-7841</td>\n",
       "      <td>DL</td>\n",
       "      <td>2</td>\n",
       "    </tr>\n",
       "  </tbody>\n",
       "</table>\n",
       "</div>"
      ],
      "text/plain": [
       "     Student_id First_Name Last_Name        stu_id course  duration\n",
       "0  AAA-123-2211        Sam    Edison  AAA-123-2211     ML         3\n",
       "1  BBB-542-8542        Jim       Mon  BBB-542-8542     DS         4\n",
       "2  AAA-856-7458        Ben     Denil  AAA-856-7458     BI         5\n",
       "3  DDD-745-7841      Kevin    Pocket  DDD-745-7841     DL         2"
      ]
     },
     "execution_count": 118,
     "metadata": {},
     "output_type": "execute_result"
    }
   ],
   "source": [
    "pd.merge(student,course,left_on= 'Student_id',right_on ='stu_id', how = 'inner')"
   ]
  },
  {
   "cell_type": "code",
   "execution_count": 119,
   "id": "58b899c6",
   "metadata": {},
   "outputs": [
    {
     "data": {
      "text/html": [
       "<div>\n",
       "<style scoped>\n",
       "    .dataframe tbody tr th:only-of-type {\n",
       "        vertical-align: middle;\n",
       "    }\n",
       "\n",
       "    .dataframe tbody tr th {\n",
       "        vertical-align: top;\n",
       "    }\n",
       "\n",
       "    .dataframe thead th {\n",
       "        text-align: right;\n",
       "    }\n",
       "</style>\n",
       "<table border=\"1\" class=\"dataframe\">\n",
       "  <thead>\n",
       "    <tr style=\"text-align: right;\">\n",
       "      <th></th>\n",
       "      <th>Student_id</th>\n",
       "      <th>First_Name</th>\n",
       "      <th>Last_Name</th>\n",
       "      <th>stu_id</th>\n",
       "      <th>course</th>\n",
       "      <th>duration</th>\n",
       "    </tr>\n",
       "  </thead>\n",
       "  <tbody>\n",
       "    <tr>\n",
       "      <th>0</th>\n",
       "      <td>AAA-123-2211</td>\n",
       "      <td>Sam</td>\n",
       "      <td>Edison</td>\n",
       "      <td>AAA-123-2211</td>\n",
       "      <td>ML</td>\n",
       "      <td>3.0</td>\n",
       "    </tr>\n",
       "    <tr>\n",
       "      <th>1</th>\n",
       "      <td>BBB-542-8542</td>\n",
       "      <td>Jim</td>\n",
       "      <td>Mon</td>\n",
       "      <td>BBB-542-8542</td>\n",
       "      <td>DS</td>\n",
       "      <td>4.0</td>\n",
       "    </tr>\n",
       "    <tr>\n",
       "      <th>2</th>\n",
       "      <td>CCC-854-8541</td>\n",
       "      <td>Rick</td>\n",
       "      <td>Dany</td>\n",
       "      <td>NaN</td>\n",
       "      <td>NaN</td>\n",
       "      <td>NaN</td>\n",
       "    </tr>\n",
       "    <tr>\n",
       "      <th>3</th>\n",
       "      <td>AAA-856-7458</td>\n",
       "      <td>Ben</td>\n",
       "      <td>Denil</td>\n",
       "      <td>AAA-856-7458</td>\n",
       "      <td>BI</td>\n",
       "      <td>5.0</td>\n",
       "    </tr>\n",
       "    <tr>\n",
       "      <th>4</th>\n",
       "      <td>DDD-745-7841</td>\n",
       "      <td>Kevin</td>\n",
       "      <td>Pocket</td>\n",
       "      <td>DDD-745-7841</td>\n",
       "      <td>DL</td>\n",
       "      <td>2.0</td>\n",
       "    </tr>\n",
       "  </tbody>\n",
       "</table>\n",
       "</div>"
      ],
      "text/plain": [
       "     Student_id First_Name Last_Name        stu_id course  duration\n",
       "0  AAA-123-2211        Sam    Edison  AAA-123-2211     ML       3.0\n",
       "1  BBB-542-8542        Jim       Mon  BBB-542-8542     DS       4.0\n",
       "2  CCC-854-8541       Rick      Dany           NaN    NaN       NaN\n",
       "3  AAA-856-7458        Ben     Denil  AAA-856-7458     BI       5.0\n",
       "4  DDD-745-7841      Kevin    Pocket  DDD-745-7841     DL       2.0"
      ]
     },
     "execution_count": 119,
     "metadata": {},
     "output_type": "execute_result"
    }
   ],
   "source": [
    "pd.merge(student,course,left_on= 'Student_id',right_on ='stu_id', how = 'left')"
   ]
  },
  {
   "cell_type": "code",
   "execution_count": 120,
   "id": "6a186086",
   "metadata": {},
   "outputs": [
    {
     "data": {
      "text/html": [
       "<div>\n",
       "<style scoped>\n",
       "    .dataframe tbody tr th:only-of-type {\n",
       "        vertical-align: middle;\n",
       "    }\n",
       "\n",
       "    .dataframe tbody tr th {\n",
       "        vertical-align: top;\n",
       "    }\n",
       "\n",
       "    .dataframe thead th {\n",
       "        text-align: right;\n",
       "    }\n",
       "</style>\n",
       "<table border=\"1\" class=\"dataframe\">\n",
       "  <thead>\n",
       "    <tr style=\"text-align: right;\">\n",
       "      <th></th>\n",
       "      <th>Student_id</th>\n",
       "      <th>First_Name</th>\n",
       "      <th>Last_Name</th>\n",
       "      <th>stu_id</th>\n",
       "      <th>course</th>\n",
       "      <th>duration</th>\n",
       "    </tr>\n",
       "  </thead>\n",
       "  <tbody>\n",
       "    <tr>\n",
       "      <th>0</th>\n",
       "      <td>AAA-123-2211</td>\n",
       "      <td>Sam</td>\n",
       "      <td>Edison</td>\n",
       "      <td>AAA-123-2211</td>\n",
       "      <td>ML</td>\n",
       "      <td>3</td>\n",
       "    </tr>\n",
       "    <tr>\n",
       "      <th>1</th>\n",
       "      <td>BBB-542-8542</td>\n",
       "      <td>Jim</td>\n",
       "      <td>Mon</td>\n",
       "      <td>BBB-542-8542</td>\n",
       "      <td>DS</td>\n",
       "      <td>4</td>\n",
       "    </tr>\n",
       "    <tr>\n",
       "      <th>2</th>\n",
       "      <td>NaN</td>\n",
       "      <td>NaN</td>\n",
       "      <td>NaN</td>\n",
       "      <td>CCC-854-7458</td>\n",
       "      <td>RPA</td>\n",
       "      <td>2</td>\n",
       "    </tr>\n",
       "    <tr>\n",
       "      <th>3</th>\n",
       "      <td>AAA-856-7458</td>\n",
       "      <td>Ben</td>\n",
       "      <td>Denil</td>\n",
       "      <td>AAA-856-7458</td>\n",
       "      <td>BI</td>\n",
       "      <td>5</td>\n",
       "    </tr>\n",
       "    <tr>\n",
       "      <th>4</th>\n",
       "      <td>DDD-745-7841</td>\n",
       "      <td>Kevin</td>\n",
       "      <td>Pocket</td>\n",
       "      <td>DDD-745-7841</td>\n",
       "      <td>DL</td>\n",
       "      <td>2</td>\n",
       "    </tr>\n",
       "  </tbody>\n",
       "</table>\n",
       "</div>"
      ],
      "text/plain": [
       "     Student_id First_Name Last_Name        stu_id course  duration\n",
       "0  AAA-123-2211        Sam    Edison  AAA-123-2211     ML         3\n",
       "1  BBB-542-8542        Jim       Mon  BBB-542-8542     DS         4\n",
       "2           NaN        NaN       NaN  CCC-854-7458    RPA         2\n",
       "3  AAA-856-7458        Ben     Denil  AAA-856-7458     BI         5\n",
       "4  DDD-745-7841      Kevin    Pocket  DDD-745-7841     DL         2"
      ]
     },
     "execution_count": 120,
     "metadata": {},
     "output_type": "execute_result"
    }
   ],
   "source": [
    "pd.merge(student,course,left_on= 'Student_id',right_on ='stu_id', how = 'right')"
   ]
  },
  {
   "cell_type": "code",
   "execution_count": 122,
   "id": "e27cde85",
   "metadata": {},
   "outputs": [
    {
     "data": {
      "text/html": [
       "<div>\n",
       "<style scoped>\n",
       "    .dataframe tbody tr th:only-of-type {\n",
       "        vertical-align: middle;\n",
       "    }\n",
       "\n",
       "    .dataframe tbody tr th {\n",
       "        vertical-align: top;\n",
       "    }\n",
       "\n",
       "    .dataframe thead th {\n",
       "        text-align: right;\n",
       "    }\n",
       "</style>\n",
       "<table border=\"1\" class=\"dataframe\">\n",
       "  <thead>\n",
       "    <tr style=\"text-align: right;\">\n",
       "      <th></th>\n",
       "      <th>Student_id</th>\n",
       "      <th>First_Name</th>\n",
       "      <th>Last_Name</th>\n",
       "      <th>stu_id</th>\n",
       "      <th>course</th>\n",
       "      <th>duration</th>\n",
       "    </tr>\n",
       "  </thead>\n",
       "  <tbody>\n",
       "    <tr>\n",
       "      <th>0</th>\n",
       "      <td>AAA-123-2211</td>\n",
       "      <td>Sam</td>\n",
       "      <td>Edison</td>\n",
       "      <td>AAA-123-2211</td>\n",
       "      <td>ML</td>\n",
       "      <td>3.0</td>\n",
       "    </tr>\n",
       "    <tr>\n",
       "      <th>1</th>\n",
       "      <td>BBB-542-8542</td>\n",
       "      <td>Jim</td>\n",
       "      <td>Mon</td>\n",
       "      <td>BBB-542-8542</td>\n",
       "      <td>DS</td>\n",
       "      <td>4.0</td>\n",
       "    </tr>\n",
       "    <tr>\n",
       "      <th>2</th>\n",
       "      <td>CCC-854-8541</td>\n",
       "      <td>Rick</td>\n",
       "      <td>Dany</td>\n",
       "      <td>NaN</td>\n",
       "      <td>NaN</td>\n",
       "      <td>NaN</td>\n",
       "    </tr>\n",
       "    <tr>\n",
       "      <th>3</th>\n",
       "      <td>AAA-856-7458</td>\n",
       "      <td>Ben</td>\n",
       "      <td>Denil</td>\n",
       "      <td>AAA-856-7458</td>\n",
       "      <td>BI</td>\n",
       "      <td>5.0</td>\n",
       "    </tr>\n",
       "    <tr>\n",
       "      <th>4</th>\n",
       "      <td>DDD-745-7841</td>\n",
       "      <td>Kevin</td>\n",
       "      <td>Pocket</td>\n",
       "      <td>DDD-745-7841</td>\n",
       "      <td>DL</td>\n",
       "      <td>2.0</td>\n",
       "    </tr>\n",
       "    <tr>\n",
       "      <th>5</th>\n",
       "      <td>NaN</td>\n",
       "      <td>NaN</td>\n",
       "      <td>NaN</td>\n",
       "      <td>CCC-854-7458</td>\n",
       "      <td>RPA</td>\n",
       "      <td>2.0</td>\n",
       "    </tr>\n",
       "  </tbody>\n",
       "</table>\n",
       "</div>"
      ],
      "text/plain": [
       "     Student_id First_Name Last_Name        stu_id course  duration\n",
       "0  AAA-123-2211        Sam    Edison  AAA-123-2211     ML       3.0\n",
       "1  BBB-542-8542        Jim       Mon  BBB-542-8542     DS       4.0\n",
       "2  CCC-854-8541       Rick      Dany           NaN    NaN       NaN\n",
       "3  AAA-856-7458        Ben     Denil  AAA-856-7458     BI       5.0\n",
       "4  DDD-745-7841      Kevin    Pocket  DDD-745-7841     DL       2.0\n",
       "5           NaN        NaN       NaN  CCC-854-7458    RPA       2.0"
      ]
     },
     "execution_count": 122,
     "metadata": {},
     "output_type": "execute_result"
    }
   ],
   "source": [
    "pd.merge(student,course,left_on= 'Student_id',right_on ='stu_id', how = 'outer')"
   ]
  },
  {
   "cell_type": "code",
   "execution_count": 123,
   "id": "88a2545e",
   "metadata": {},
   "outputs": [
    {
     "name": "stdout",
     "output_type": "stream",
     "text": [
      "   id    Name subject_id\n",
      "0   1    Alex       sub1\n",
      "1   2     Amy       sub2\n",
      "2   3   Allen       sub4\n",
      "3   4   Alice       sub6\n",
      "4   5  Ayoung       sub5\n",
      "\n",
      "\n",
      "   id   Name subject_id\n",
      "0   1  Billy       sub2\n",
      "1   2  Brian       sub4\n",
      "2   3   Bran       sub3\n",
      "3   4  Bryce       sub6\n",
      "4   5  Betty       sub5\n"
     ]
    }
   ],
   "source": [
    "left = pd.DataFrame({\n",
    "   'id':[1,2,3,4,5],\n",
    "   'Name': ['Alex', 'Amy', 'Allen', 'Alice', 'Ayoung'],\n",
    "   'subject_id':['sub1','sub2','sub4','sub6','sub5']})\n",
    "right = pd.DataFrame({\n",
    "\t'id':[1,2,3,4,5],\n",
    "   'Name': ['Billy', 'Brian', 'Bran', 'Bryce', 'Betty'],\n",
    "   'subject_id':['sub2','sub4','sub3','sub6','sub5']})\n",
    "print (left)\n",
    "print ('\\n')\n",
    "print (right)\n"
   ]
  },
  {
   "cell_type": "code",
   "execution_count": 124,
   "id": "e3df179e",
   "metadata": {},
   "outputs": [
    {
     "name": "stdout",
     "output_type": "stream",
     "text": [
      "   id  Name_x subject_id Name_y\n",
      "0   4   Alice       sub6  Bryce\n",
      "1   5  Ayoung       sub5  Betty\n"
     ]
    }
   ],
   "source": [
    "print (pd.merge(left,right,on=['id','subject_id']))"
   ]
  },
  {
   "cell_type": "code",
   "execution_count": 125,
   "id": "4c95001b",
   "metadata": {},
   "outputs": [
    {
     "name": "stdout",
     "output_type": "stream",
     "text": [
      "   id  Name_x subject_id Name_y\n",
      "0   1    Alex       sub1    NaN\n",
      "1   2     Amy       sub2    NaN\n",
      "2   3   Allen       sub4    NaN\n",
      "3   4   Alice       sub6  Bryce\n",
      "4   5  Ayoung       sub5  Betty\n"
     ]
    }
   ],
   "source": [
    "print (pd.merge(left,right,on=['id','subject_id'],how = 'left'))"
   ]
  },
  {
   "cell_type": "code",
   "execution_count": 126,
   "id": "cd16c0a5",
   "metadata": {},
   "outputs": [
    {
     "name": "stdout",
     "output_type": "stream",
     "text": [
      "   id  Name_x subject_id Name_y\n",
      "0   1     NaN       sub2  Billy\n",
      "1   2     NaN       sub4  Brian\n",
      "2   3     NaN       sub3   Bran\n",
      "3   4   Alice       sub6  Bryce\n",
      "4   5  Ayoung       sub5  Betty\n"
     ]
    }
   ],
   "source": [
    "print (pd.merge(left,right,on=['id','subject_id'],how = 'right'))"
   ]
  },
  {
   "cell_type": "code",
   "execution_count": 127,
   "id": "4d680db4",
   "metadata": {},
   "outputs": [
    {
     "name": "stdout",
     "output_type": "stream",
     "text": [
      "   id  Name_x subject_id Name_y\n",
      "0   1    Alex       sub1    NaN\n",
      "1   2     Amy       sub2    NaN\n",
      "2   3   Allen       sub4    NaN\n",
      "3   4   Alice       sub6  Bryce\n",
      "4   5  Ayoung       sub5  Betty\n",
      "5   1     NaN       sub2  Billy\n",
      "6   2     NaN       sub4  Brian\n",
      "7   3     NaN       sub3   Bran\n"
     ]
    }
   ],
   "source": [
    "print (pd.merge(left,right,on=['id','subject_id'],how = 'outer'))"
   ]
  }
 ],
 "metadata": {
  "kernelspec": {
   "display_name": "Python 3 (ipykernel)",
   "language": "python",
   "name": "python3"
  },
  "language_info": {
   "codemirror_mode": {
    "name": "ipython",
    "version": 3
   },
   "file_extension": ".py",
   "mimetype": "text/x-python",
   "name": "python",
   "nbconvert_exporter": "python",
   "pygments_lexer": "ipython3",
   "version": "3.9.15"
  }
 },
 "nbformat": 4,
 "nbformat_minor": 5
}
